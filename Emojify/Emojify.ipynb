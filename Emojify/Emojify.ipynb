{
  "nbformat": 4,
  "nbformat_minor": 0,
  "metadata": {
    "coursera": {
      "course_slug": "nlp-sequence-models",
      "graded_item_id": "RNnEs",
      "launcher_item_id": "acNYU"
    },
    "kernelspec": {
      "display_name": "Python 3",
      "language": "python",
      "name": "python3"
    },
    "language_info": {
      "codemirror_mode": {
        "name": "ipython",
        "version": 3
      },
      "file_extension": ".py",
      "mimetype": "text/x-python",
      "name": "python",
      "nbconvert_exporter": "python",
      "pygments_lexer": "ipython3",
      "version": "3.6.0"
    },
    "colab": {
      "name": "Emojify_v2a.ipynb",
      "provenance": [],
      "collapsed_sections": []
    },
    "accelerator": "GPU"
  },
  "cells": [
    {
      "cell_type": "markdown",
      "metadata": {
        "id": "i9AMFWS4VeXf",
        "colab_type": "text"
      },
      "source": [
        "# Emojify! \n",
        "\n",
        "We will use word vector representations to build an Emojifier. \n",
        "\n",
        "Have you ever wanted to make your text messages more expressive? Your emojifier app will help you do that. \n",
        "So rather than writing:\n",
        ">\"Congratulations on the promotion! Let's get coffee and talk. Love you!\"   \n",
        "\n",
        "The emojifier can automatically turn this into:\n",
        ">\"Congratulations on the promotion! 👍 Let's get coffee and talk. ☕️ Love you! ❤️\"\n",
        "\n",
        "* The model will take as input a sentence (such as \"Let's go see the baseball game tonight!\") and finds the most appropriate emoji to be used with this sentence (⚾️).\n",
        "\n",
        "1.  First model is a baseline model (Emojifier-V1) using word embeddings.\n",
        "2. Then a more sophisticated model (Emojifier-V2) that further incorporates an LSTM. "
      ]
    },
    {
      "cell_type": "code",
      "metadata": {
        "id": "gqboRkdqWYIf",
        "colab_type": "code",
        "colab": {
          "base_uri": "https://localhost:8080/",
          "height": 35
        },
        "outputId": "4bb0a509-0543-4bc8-ef04-585e40b068a4"
      },
      "source": [
        "!pip install emoji --upgrade\n",
        "import numpy as np\n",
        "from emo_utils import *\n",
        "import emoji\n",
        "import matplotlib.pyplot as plt\n",
        "%matplotlib inline"
      ],
      "execution_count": 6,
      "outputs": [
        {
          "output_type": "stream",
          "text": [
            "Requirement already up-to-date: emoji in /usr/local/lib/python3.6/dist-packages (0.5.4)\n"
          ],
          "name": "stdout"
        }
      ]
    },
    {
      "cell_type": "markdown",
      "metadata": {
        "id": "IBbx2u0lVeXm",
        "colab_type": "text"
      },
      "source": [
        "## 1 - Baseline model: Emojifier-V1\n",
        "\n",
        "### 1.1 - Dataset EMOJISET\n",
        "\n",
        "\n",
        "Dataset is (X, Y) where:\n",
        "- X contains 127 sentences (strings).\n",
        "- Y contains an integer label between 0 and 4 corresponding to an emoji for each sentence.\n",
        "\n",
        "<img src=\"https://github.com/varangrai/Coursera-Coursework/blob/master/Emojify/images/data_set.png?raw=true\" style=\"width:700px;height:300px;\">\n",
        "<caption><center> **Figure 1**: EMOJISET - a classification problem with 5 classes. A few examples of sentences are given here. </center></caption>\n",
        "\n",
        "* X_train: It is an array containing strings\n",
        "* Y_train: an array containing labels"
      ]
    },
    {
      "cell_type": "code",
      "metadata": {
        "id": "GPZ2j82-VeXn",
        "colab_type": "code",
        "colab": {}
      },
      "source": [
        "X_train, Y_train = read_csv('/content/train_emoji.csv') \n",
        "X_test, Y_test = read_csv('/content/tesss.csv')"
      ],
      "execution_count": 7,
      "outputs": []
    },
    {
      "cell_type": "code",
      "metadata": {
        "id": "i6Y3U7lsVeXq",
        "colab_type": "code",
        "colab": {}
      },
      "source": [
        "maxLen = len(max(X_train, key=len).split()) # maximum length of a sentence"
      ],
      "execution_count": 8,
      "outputs": []
    },
    {
      "cell_type": "code",
      "metadata": {
        "id": "DK-SnGIvVeXv",
        "colab_type": "code",
        "colab": {
          "base_uri": "https://localhost:8080/",
          "height": 191
        },
        "outputId": "17bb4018-06b2-4381-c1ea-ab1ef77f4b96"
      },
      "source": [
        "for idx in range(10):\n",
        "    print(X_train[idx], label_to_emoji(Y_train[idx]))"
      ],
      "execution_count": 6,
      "outputs": [
        {
          "output_type": "stream",
          "text": [
            "never talk to me again 😞\n",
            "I am proud of your achievements 😄\n",
            "It is the worst day in my life 😞\n",
            "Miss you so much ❤️\n",
            "food is life 🍴\n",
            "I love you mum ❤️\n",
            "Stop saying bullshit 😞\n",
            "congratulations on your acceptance 😄\n",
            "The assignment is too long  😞\n",
            "I want to go play ⚾\n"
          ],
          "name": "stdout"
        }
      ]
    },
    {
      "cell_type": "markdown",
      "metadata": {
        "id": "HLp80PY9VeXz",
        "colab_type": "text"
      },
      "source": [
        "### 1.2 - Overview of the Emojifier-V1\n",
        "\n",
        "<center>\n",
        "<img src=\"https://github.com/Kulbear/deep-learning-coursera/blob/master/Sequence%20Models/images/image_1.png?raw=true\" style=\"width:900px;height:300px;\">\n",
        "<caption><center> **Figure 2**: Baseline model (Emojifier-V1).</center></caption>\n",
        "</center>\n",
        "\n",
        "\n",
        "#### Inputs and outputs\n",
        "* The input of the model is a string corresponding to a sentence (e.g. \"I love you). \n",
        "* The output will be a probability vector of shape (1,5), (there are 5 emojis to choose from).\n",
        "* The (1,5) probability vector is passed to an argmax layer, which extracts the index of the emoji with the highest probability."
      ]
    },
    {
      "cell_type": "markdown",
      "metadata": {
        "id": "zBhcQbSVVeXz",
        "colab_type": "text"
      },
      "source": [
        "#### One-hot encoding\n",
        "* Converting labels to one-hot encoding\n",
        "* Each row is a one-hot vector giving the label of one example.\n"
      ]
    },
    {
      "cell_type": "code",
      "metadata": {
        "id": "90hy4XutVeX0",
        "colab_type": "code",
        "colab": {}
      },
      "source": [
        "Y_oh_train = convert_to_one_hot(Y_train, C = 5)\n",
        "Y_oh_test = convert_to_one_hot(Y_test, C = 5)"
      ],
      "execution_count": 9,
      "outputs": []
    },
    {
      "cell_type": "code",
      "metadata": {
        "id": "voMz_ziuVeX3",
        "colab_type": "code",
        "colab": {
          "base_uri": "https://localhost:8080/",
          "height": 52
        },
        "outputId": "4f221e9c-c487-4402-b69d-eddcd701da5f"
      },
      "source": [
        "idx = 50\n",
        "print(f\"Sentence '{X_train[50]}' has label index {Y_train[idx]}, which is emoji {label_to_emoji(Y_train[idx])}\", )\n",
        "print(f\"Label index {Y_train[idx]} in one-hot encoding format is {Y_oh_train[idx]}\")"
      ],
      "execution_count": 10,
      "outputs": [
        {
          "output_type": "stream",
          "text": [
            "Sentence 'I missed you' has label index 0, which is emoji ❤️\n",
            "Label index 0 in one-hot encoding format is [1. 0. 0. 0. 0.]\n"
          ],
          "name": "stdout"
        }
      ]
    },
    {
      "cell_type": "markdown",
      "metadata": {
        "id": "zcUiDpdqVeX8",
        "colab_type": "text"
      },
      "source": [
        "### 1.3 - Implementing Emojifier-V1\n",
        "\n",
        "As shown in Figure 2 (above), the first step is to:\n",
        "* Convert each word in the input sentence into their word vector representations.\n",
        "* Then take an average of the word vectors. \n",
        "\n",
        "Run the following cell to load the `word_to_vec_map`, which contains all the vector representations."
      ]
    },
    {
      "cell_type": "code",
      "metadata": {
        "id": "Jd38wZlFcmKk",
        "colab_type": "code",
        "colab": {
          "resources": {
            "http://localhost:8080/nbextensions/google.colab/files.js": {
              "data": "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",
              "ok": true,
              "headers": [
                [
                  "content-type",
                  "application/javascript"
                ]
              ],
              "status": 200,
              "status_text": ""
            }
          },
          "base_uri": "https://localhost:8080/",
          "height": 333
        },
        "outputId": "58d02754-d082-445b-ab18-5c9e563dc40c"
      },
      "source": [
        "!pip install kaggle\n",
        "from google.colab import files\n",
        "files.upload()\n",
        "! mkdir ~/.kaggle\n",
        "! cp kaggle.json ~/.kaggle/\n",
        "! chmod 600 ~/.kaggle/kaggle.json\n",
        "! kaggle datasets download -d watts2/glove6b50dtxt\n",
        "!unzip \\*.zip"
      ],
      "execution_count": 11,
      "outputs": [
        {
          "output_type": "stream",
          "text": [
            "Requirement already satisfied: kaggle in /usr/local/lib/python3.6/dist-packages (1.5.6)\n",
            "Requirement already satisfied: urllib3<1.25,>=1.21.1 in /usr/local/lib/python3.6/dist-packages (from kaggle) (1.24.3)\n",
            "Requirement already satisfied: requests in /usr/local/lib/python3.6/dist-packages (from kaggle) (2.23.0)\n",
            "Requirement already satisfied: python-slugify in /usr/local/lib/python3.6/dist-packages (from kaggle) (4.0.1)\n",
            "Requirement already satisfied: tqdm in /usr/local/lib/python3.6/dist-packages (from kaggle) (4.41.1)\n",
            "Requirement already satisfied: certifi in /usr/local/lib/python3.6/dist-packages (from kaggle) (2020.6.20)\n",
            "Requirement already satisfied: python-dateutil in /usr/local/lib/python3.6/dist-packages (from kaggle) (2.8.1)\n",
            "Requirement already satisfied: six>=1.10 in /usr/local/lib/python3.6/dist-packages (from kaggle) (1.12.0)\n",
            "Requirement already satisfied: idna<3,>=2.5 in /usr/local/lib/python3.6/dist-packages (from requests->kaggle) (2.10)\n",
            "Requirement already satisfied: chardet<4,>=3.0.2 in /usr/local/lib/python3.6/dist-packages (from requests->kaggle) (3.0.4)\n",
            "Requirement already satisfied: text-unidecode>=1.3 in /usr/local/lib/python3.6/dist-packages (from python-slugify->kaggle) (1.3)\n"
          ],
          "name": "stdout"
        },
        {
          "output_type": "display_data",
          "data": {
            "text/html": [
              "\n",
              "     <input type=\"file\" id=\"files-2d92a548-ac38-47e1-bfc1-664b35d5c3ba\" name=\"files[]\" multiple disabled\n",
              "        style=\"border:none\" />\n",
              "     <output id=\"result-2d92a548-ac38-47e1-bfc1-664b35d5c3ba\">\n",
              "      Upload widget is only available when the cell has been executed in the\n",
              "      current browser session. Please rerun this cell to enable.\n",
              "      </output>\n",
              "      <script src=\"/nbextensions/google.colab/files.js\"></script> "
            ],
            "text/plain": [
              "<IPython.core.display.HTML object>"
            ]
          },
          "metadata": {
            "tags": []
          }
        },
        {
          "output_type": "stream",
          "text": [
            "Saving kaggle.json to kaggle (1).json\n",
            "mkdir: cannot create directory ‘/root/.kaggle’: File exists\n",
            "glove6b50dtxt.zip: Skipping, found more recently modified local copy (use --force to force download)\n",
            "Archive:  glove6b50dtxt.zip\n",
            "replace glove.6B.50d.txt? [y]es, [n]o, [A]ll, [N]one, [r]ename: n\n"
          ],
          "name": "stdout"
        }
      ]
    },
    {
      "cell_type": "code",
      "metadata": {
        "id": "K7n1dwIvVeX9",
        "colab_type": "code",
        "colab": {}
      },
      "source": [
        "word_to_index, index_to_word, word_to_vec_map = read_glove_vecs('/content/glove.6B.50d.txt')"
      ],
      "execution_count": 12,
      "outputs": []
    },
    {
      "cell_type": "markdown",
      "metadata": {
        "id": "yi6qa6e7VeX_",
        "colab_type": "text"
      },
      "source": [
        "- `word_to_index`: dictionary mapping from words to their indices in the vocabulary \n",
        "    - (400,001 words, with the valid indices ranging from 0 to 400,000)\n",
        "- `index_to_word`: dictionary mapping from indices to their corresponding words in the vocabulary\n",
        "- `word_to_vec_map`: dictionary mapping words to their GloVe vector representation.\n"
      ]
    },
    {
      "cell_type": "code",
      "metadata": {
        "id": "BjNUfnRtVeYA",
        "colab_type": "code",
        "colab": {
          "base_uri": "https://localhost:8080/",
          "height": 52
        },
        "outputId": "c8a45c11-80a6-4f20-cdf3-46e9f99cbe52"
      },
      "source": [
        "word = \"cucumber\"\n",
        "idx = 289846\n",
        "print(\"the index of\", word, \"in the vocabulary is\", word_to_index[word])\n",
        "print(\"the\", str(idx) + \"th word in the vocabulary is\", index_to_word[idx])"
      ],
      "execution_count": 13,
      "outputs": [
        {
          "output_type": "stream",
          "text": [
            "the index of cucumber in the vocabulary is 113317\n",
            "the 289846th word in the vocabulary is potatos\n"
          ],
          "name": "stdout"
        }
      ]
    },
    {
      "cell_type": "markdown",
      "metadata": {
        "id": "FPFlvphBVeYD",
        "colab_type": "text"
      },
      "source": [
        "`sentence_to_avg()`\n",
        "1. Convert every sentence to lower-case, then split the sentence into a list of words. \n",
        "\n",
        "2. For each word in the sentence, access its GloVe representation.\n",
        "    * Then take the average of all of these word vectors.\n",
        "    \n",
        "    "
      ]
    },
    {
      "cell_type": "code",
      "metadata": {
        "id": "sO_FiukxVeYD",
        "colab_type": "code",
        "colab": {}
      },
      "source": [
        "def sentence_to_avg(sentence, word_to_vec_map):\n",
        "    \"\"\"\n",
        "    Converts a sentence (string) into a list of words (strings). Extracts the GloVe representation of each word\n",
        "    and averages its value into a single vector encoding the meaning of the sentence.\n",
        "    \n",
        "    Arguments:\n",
        "    sentence -- string, one training example from X\n",
        "    word_to_vec_map -- dictionary mapping every word in a vocabulary into its 50-dimensional vector representation\n",
        "    \n",
        "    Returns:\n",
        "    avg -- average vector encoding information about the sentence, numpy-array of shape (50,)\n",
        "    \"\"\"\n",
        "    words = sentence.lower().split()\n",
        "    avg = [word_to_vec_map[i] for i in words]\n",
        "    avg = np.sum(np.array(avg), axis=0)/len(avg)\n",
        "    return avg"
      ],
      "execution_count": 14,
      "outputs": []
    },
    {
      "cell_type": "code",
      "metadata": {
        "scrolled": true,
        "id": "WAwSd6thVeYI",
        "colab_type": "code",
        "colab": {
          "base_uri": "https://localhost:8080/",
          "height": 191
        },
        "outputId": "3b773ef2-b962-4cf8-db9f-8f6457512732"
      },
      "source": [
        "avg = sentence_to_avg(\"Morrocan couscous is my favorite dish\", word_to_vec_map)\n",
        "print(\"avg = \\n\", avg)"
      ],
      "execution_count": 15,
      "outputs": [
        {
          "output_type": "stream",
          "text": [
            "avg = \n",
            " [-0.008005    0.56370833 -0.50427333  0.258865    0.55131103  0.03104983\n",
            " -0.21013718  0.16893933 -0.09590267  0.141784   -0.15708967  0.18525867\n",
            "  0.6495785   0.38371117  0.21102167  0.11301667  0.02613967  0.26037767\n",
            "  0.05820667 -0.01578167 -0.12078833 -0.02471267  0.4128455   0.5152061\n",
            "  0.38756167 -0.898661   -0.535145    0.33501167  0.68806933 -0.2156265\n",
            "  1.797155    0.10476933 -0.36775333  0.750785    0.10282583  0.348925\n",
            " -0.27262833  0.66768    -0.10706167 -0.283635    0.59580117  0.28747333\n",
            " -0.3366635   0.23393817  0.34349183  0.178405    0.1166155  -0.076433\n",
            "  0.1445417   0.09808667]\n"
          ],
          "name": "stdout"
        }
      ]
    },
    {
      "cell_type": "code",
      "metadata": {
        "id": "NPOIirB62h3M",
        "colab_type": "code",
        "colab": {}
      },
      "source": [
        "x_train = np.array([sentence_to_avg(sent,word_to_vec_map) for sent in X_train])\n",
        "x_test = np.array([sentence_to_avg(sent,word_to_vec_map) for sent in X_test])"
      ],
      "execution_count": 16,
      "outputs": []
    },
    {
      "cell_type": "code",
      "metadata": {
        "id": "UtXjXiVYus9Y",
        "colab_type": "code",
        "colab": {}
      },
      "source": [
        "import tensorflow as tf"
      ],
      "execution_count": 17,
      "outputs": []
    },
    {
      "cell_type": "code",
      "metadata": {
        "id": "wOZGAfCNVeYM",
        "colab_type": "code",
        "colab": {
          "base_uri": "https://localhost:8080/",
          "height": 225
        },
        "outputId": "36b142a7-4087-43eb-f7d6-4fcd00191607"
      },
      "source": [
        "def make_model(embed_dims,):\n",
        "  model = tf.keras.Sequential()\n",
        "  model.add(tf.keras.layers.Dense(64,input_shape=(embed_dims,)),)\n",
        "  model.add(tf.keras.layers.Dense(5, activation = 'softmax'))\n",
        "  return model\n",
        "model = make_model(50)\n",
        "model.summary()  "
      ],
      "execution_count": 18,
      "outputs": [
        {
          "output_type": "stream",
          "text": [
            "Model: \"sequential\"\n",
            "_________________________________________________________________\n",
            "Layer (type)                 Output Shape              Param #   \n",
            "=================================================================\n",
            "dense (Dense)                (None, 64)                3264      \n",
            "_________________________________________________________________\n",
            "dense_1 (Dense)              (None, 5)                 325       \n",
            "=================================================================\n",
            "Total params: 3,589\n",
            "Trainable params: 3,589\n",
            "Non-trainable params: 0\n",
            "_________________________________________________________________\n"
          ],
          "name": "stdout"
        }
      ]
    },
    {
      "cell_type": "code",
      "metadata": {
        "id": "_sVHRLxcubAr",
        "colab_type": "code",
        "colab": {
          "base_uri": "https://localhost:8080/",
          "height": 1000
        },
        "outputId": "aff0e8dc-e46d-4f29-b687-b35832d902eb"
      },
      "source": [
        "model.compile(loss = 'categorical_crossentropy', \n",
        "              optimizer=tf.keras.optimizers.Adam(0.1), \n",
        "              metrics=['acc'])\n",
        "model.fit(x_train,Y_oh_train, batch_size=x_train.shape[0] ,validation_data=(x_test, Y_oh_test), epochs=500)"
      ],
      "execution_count": 19,
      "outputs": [
        {
          "output_type": "stream",
          "text": [
            "Epoch 1/500\n",
            "1/1 [==============================] - 0s 218ms/step - loss: 2.0934 - acc: 0.1515 - val_loss: 4.0485 - val_acc: 0.2321\n",
            "Epoch 2/500\n",
            "1/1 [==============================] - 0s 38ms/step - loss: 4.5063 - acc: 0.2955 - val_loss: 5.2416 - val_acc: 0.3929\n",
            "Epoch 3/500\n",
            "1/1 [==============================] - 0s 38ms/step - loss: 5.0184 - acc: 0.4091 - val_loss: 12.3764 - val_acc: 0.2143\n",
            "Epoch 4/500\n",
            "1/1 [==============================] - 0s 48ms/step - loss: 11.1612 - acc: 0.2803 - val_loss: 15.1903 - val_acc: 0.3571\n",
            "Epoch 5/500\n",
            "1/1 [==============================] - 0s 40ms/step - loss: 13.8871 - acc: 0.3712 - val_loss: 15.3204 - val_acc: 0.1429\n",
            "Epoch 6/500\n",
            "1/1 [==============================] - 0s 53ms/step - loss: 13.3559 - acc: 0.2121 - val_loss: 4.7409 - val_acc: 0.3750\n",
            "Epoch 7/500\n",
            "1/1 [==============================] - 0s 45ms/step - loss: 3.9665 - acc: 0.4318 - val_loss: 2.9647 - val_acc: 0.5357\n",
            "Epoch 8/500\n",
            "1/1 [==============================] - 0s 39ms/step - loss: 2.9279 - acc: 0.5758 - val_loss: 4.4029 - val_acc: 0.4643\n",
            "Epoch 9/500\n",
            "1/1 [==============================] - 0s 38ms/step - loss: 4.5634 - acc: 0.4924 - val_loss: 3.9851 - val_acc: 0.5357\n",
            "Epoch 10/500\n",
            "1/1 [==============================] - 0s 39ms/step - loss: 4.2314 - acc: 0.5303 - val_loss: 3.3887 - val_acc: 0.4464\n",
            "Epoch 11/500\n",
            "1/1 [==============================] - 0s 40ms/step - loss: 4.0964 - acc: 0.5000 - val_loss: 2.8776 - val_acc: 0.4107\n",
            "Epoch 12/500\n",
            "1/1 [==============================] - 0s 40ms/step - loss: 3.3245 - acc: 0.4848 - val_loss: 1.2034 - val_acc: 0.6071\n",
            "Epoch 13/500\n",
            "1/1 [==============================] - 0s 43ms/step - loss: 1.1493 - acc: 0.6515 - val_loss: 3.5570 - val_acc: 0.4107\n",
            "Epoch 14/500\n",
            "1/1 [==============================] - 0s 39ms/step - loss: 2.6018 - acc: 0.4924 - val_loss: 3.3702 - val_acc: 0.4286\n",
            "Epoch 15/500\n",
            "1/1 [==============================] - 0s 38ms/step - loss: 2.2966 - acc: 0.5606 - val_loss: 2.2640 - val_acc: 0.5179\n",
            "Epoch 16/500\n",
            "1/1 [==============================] - 0s 39ms/step - loss: 1.7417 - acc: 0.6136 - val_loss: 1.7845 - val_acc: 0.6607\n",
            "Epoch 17/500\n",
            "1/1 [==============================] - 0s 38ms/step - loss: 1.2649 - acc: 0.6894 - val_loss: 1.9624 - val_acc: 0.6071\n",
            "Epoch 18/500\n",
            "1/1 [==============================] - 0s 38ms/step - loss: 1.4077 - acc: 0.7121 - val_loss: 2.5593 - val_acc: 0.5179\n",
            "Epoch 19/500\n",
            "1/1 [==============================] - 0s 40ms/step - loss: 1.9916 - acc: 0.6136 - val_loss: 1.9114 - val_acc: 0.6071\n",
            "Epoch 20/500\n",
            "1/1 [==============================] - 0s 39ms/step - loss: 1.4608 - acc: 0.6742 - val_loss: 1.0610 - val_acc: 0.7143\n",
            "Epoch 21/500\n",
            "1/1 [==============================] - 0s 38ms/step - loss: 0.6388 - acc: 0.7652 - val_loss: 1.0334 - val_acc: 0.7143\n",
            "Epoch 22/500\n",
            "1/1 [==============================] - 0s 39ms/step - loss: 0.5859 - acc: 0.7652 - val_loss: 1.3106 - val_acc: 0.7143\n",
            "Epoch 23/500\n",
            "1/1 [==============================] - 0s 42ms/step - loss: 0.9173 - acc: 0.7576 - val_loss: 1.4407 - val_acc: 0.6429\n",
            "Epoch 24/500\n",
            "1/1 [==============================] - 0s 44ms/step - loss: 1.0603 - acc: 0.7500 - val_loss: 1.2700 - val_acc: 0.6607\n",
            "Epoch 25/500\n",
            "1/1 [==============================] - 0s 42ms/step - loss: 0.9010 - acc: 0.7879 - val_loss: 1.0210 - val_acc: 0.7143\n",
            "Epoch 26/500\n",
            "1/1 [==============================] - 0s 41ms/step - loss: 0.6831 - acc: 0.7803 - val_loss: 0.8492 - val_acc: 0.7143\n",
            "Epoch 27/500\n",
            "1/1 [==============================] - 0s 51ms/step - loss: 0.5780 - acc: 0.7803 - val_loss: 0.7862 - val_acc: 0.7321\n",
            "Epoch 28/500\n",
            "1/1 [==============================] - 0s 42ms/step - loss: 0.5784 - acc: 0.8106 - val_loss: 0.7453 - val_acc: 0.7500\n",
            "Epoch 29/500\n",
            "1/1 [==============================] - 0s 40ms/step - loss: 0.5470 - acc: 0.8106 - val_loss: 0.7034 - val_acc: 0.7679\n",
            "Epoch 30/500\n",
            "1/1 [==============================] - 0s 40ms/step - loss: 0.4725 - acc: 0.8561 - val_loss: 0.6934 - val_acc: 0.8214\n",
            "Epoch 31/500\n",
            "1/1 [==============================] - 0s 39ms/step - loss: 0.4559 - acc: 0.8258 - val_loss: 0.7060 - val_acc: 0.7857\n",
            "Epoch 32/500\n",
            "1/1 [==============================] - 0s 45ms/step - loss: 0.4312 - acc: 0.8258 - val_loss: 0.6845 - val_acc: 0.7857\n",
            "Epoch 33/500\n",
            "1/1 [==============================] - 0s 40ms/step - loss: 0.3611 - acc: 0.8788 - val_loss: 0.6717 - val_acc: 0.8036\n",
            "Epoch 34/500\n",
            "1/1 [==============================] - 0s 40ms/step - loss: 0.3209 - acc: 0.9167 - val_loss: 0.7210 - val_acc: 0.7679\n",
            "Epoch 35/500\n",
            "1/1 [==============================] - 0s 40ms/step - loss: 0.3332 - acc: 0.8561 - val_loss: 0.7712 - val_acc: 0.7679\n",
            "Epoch 36/500\n",
            "1/1 [==============================] - 0s 52ms/step - loss: 0.3649 - acc: 0.8485 - val_loss: 0.7541 - val_acc: 0.7857\n",
            "Epoch 37/500\n",
            "1/1 [==============================] - 0s 41ms/step - loss: 0.3787 - acc: 0.8333 - val_loss: 0.6734 - val_acc: 0.7857\n",
            "Epoch 38/500\n",
            "1/1 [==============================] - 0s 40ms/step - loss: 0.3559 - acc: 0.8485 - val_loss: 0.5585 - val_acc: 0.8571\n",
            "Epoch 39/500\n",
            "1/1 [==============================] - 0s 40ms/step - loss: 0.3073 - acc: 0.8788 - val_loss: 0.4582 - val_acc: 0.8571\n",
            "Epoch 40/500\n",
            "1/1 [==============================] - 0s 41ms/step - loss: 0.2644 - acc: 0.9167 - val_loss: 0.4343 - val_acc: 0.8214\n",
            "Epoch 41/500\n",
            "1/1 [==============================] - 0s 41ms/step - loss: 0.2398 - acc: 0.9167 - val_loss: 0.4897 - val_acc: 0.8393\n",
            "Epoch 42/500\n",
            "1/1 [==============================] - 0s 45ms/step - loss: 0.2311 - acc: 0.9015 - val_loss: 0.5818 - val_acc: 0.8214\n",
            "Epoch 43/500\n",
            "1/1 [==============================] - 0s 40ms/step - loss: 0.2411 - acc: 0.9242 - val_loss: 0.6554 - val_acc: 0.7857\n",
            "Epoch 44/500\n",
            "1/1 [==============================] - 0s 40ms/step - loss: 0.2521 - acc: 0.9091 - val_loss: 0.6687 - val_acc: 0.7500\n",
            "Epoch 45/500\n",
            "1/1 [==============================] - 0s 47ms/step - loss: 0.2434 - acc: 0.9091 - val_loss: 0.6230 - val_acc: 0.7679\n",
            "Epoch 46/500\n",
            "1/1 [==============================] - 0s 47ms/step - loss: 0.2220 - acc: 0.9015 - val_loss: 0.5560 - val_acc: 0.8036\n",
            "Epoch 47/500\n",
            "1/1 [==============================] - 0s 51ms/step - loss: 0.2081 - acc: 0.9318 - val_loss: 0.4998 - val_acc: 0.8214\n",
            "Epoch 48/500\n",
            "1/1 [==============================] - 0s 42ms/step - loss: 0.2053 - acc: 0.9242 - val_loss: 0.4641 - val_acc: 0.8393\n",
            "Epoch 49/500\n",
            "1/1 [==============================] - 0s 40ms/step - loss: 0.2020 - acc: 0.9394 - val_loss: 0.4531 - val_acc: 0.8571\n",
            "Epoch 50/500\n",
            "1/1 [==============================] - 0s 40ms/step - loss: 0.1933 - acc: 0.9394 - val_loss: 0.4700 - val_acc: 0.8393\n",
            "Epoch 51/500\n",
            "1/1 [==============================] - 0s 40ms/step - loss: 0.1866 - acc: 0.9394 - val_loss: 0.5031 - val_acc: 0.8214\n",
            "Epoch 52/500\n",
            "1/1 [==============================] - 0s 50ms/step - loss: 0.1876 - acc: 0.9470 - val_loss: 0.5218 - val_acc: 0.8036\n",
            "Epoch 53/500\n",
            "1/1 [==============================] - 0s 41ms/step - loss: 0.1898 - acc: 0.9545 - val_loss: 0.5048 - val_acc: 0.8036\n",
            "Epoch 54/500\n",
            "1/1 [==============================] - 0s 40ms/step - loss: 0.1841 - acc: 0.9545 - val_loss: 0.4647 - val_acc: 0.8214\n",
            "Epoch 55/500\n",
            "1/1 [==============================] - 0s 40ms/step - loss: 0.1749 - acc: 0.9545 - val_loss: 0.4303 - val_acc: 0.8214\n",
            "Epoch 56/500\n",
            "1/1 [==============================] - 0s 40ms/step - loss: 0.1708 - acc: 0.9621 - val_loss: 0.4165 - val_acc: 0.8214\n",
            "Epoch 57/500\n",
            "1/1 [==============================] - 0s 43ms/step - loss: 0.1696 - acc: 0.9470 - val_loss: 0.4223 - val_acc: 0.8214\n",
            "Epoch 58/500\n",
            "1/1 [==============================] - 0s 40ms/step - loss: 0.1650 - acc: 0.9545 - val_loss: 0.4434 - val_acc: 0.8214\n",
            "Epoch 59/500\n",
            "1/1 [==============================] - 0s 41ms/step - loss: 0.1586 - acc: 0.9697 - val_loss: 0.4702 - val_acc: 0.8214\n",
            "Epoch 60/500\n",
            "1/1 [==============================] - 0s 44ms/step - loss: 0.1557 - acc: 0.9621 - val_loss: 0.4846 - val_acc: 0.8036\n",
            "Epoch 61/500\n",
            "1/1 [==============================] - 0s 47ms/step - loss: 0.1545 - acc: 0.9545 - val_loss: 0.4750 - val_acc: 0.8036\n",
            "Epoch 62/500\n",
            "1/1 [==============================] - 0s 40ms/step - loss: 0.1509 - acc: 0.9545 - val_loss: 0.4491 - val_acc: 0.8214\n",
            "Epoch 63/500\n",
            "1/1 [==============================] - 0s 40ms/step - loss: 0.1463 - acc: 0.9621 - val_loss: 0.4253 - val_acc: 0.8393\n",
            "Epoch 64/500\n",
            "1/1 [==============================] - 0s 39ms/step - loss: 0.1436 - acc: 0.9697 - val_loss: 0.4155 - val_acc: 0.8393\n",
            "Epoch 65/500\n",
            "1/1 [==============================] - 0s 61ms/step - loss: 0.1421 - acc: 0.9697 - val_loss: 0.4202 - val_acc: 0.8393\n",
            "Epoch 66/500\n",
            "1/1 [==============================] - 0s 44ms/step - loss: 0.1400 - acc: 0.9697 - val_loss: 0.4326 - val_acc: 0.8571\n",
            "Epoch 67/500\n",
            "1/1 [==============================] - 0s 45ms/step - loss: 0.1375 - acc: 0.9621 - val_loss: 0.4439 - val_acc: 0.8393\n",
            "Epoch 68/500\n",
            "1/1 [==============================] - 0s 39ms/step - loss: 0.1351 - acc: 0.9697 - val_loss: 0.4468 - val_acc: 0.8393\n",
            "Epoch 69/500\n",
            "1/1 [==============================] - 0s 44ms/step - loss: 0.1329 - acc: 0.9621 - val_loss: 0.4394 - val_acc: 0.8214\n",
            "Epoch 70/500\n",
            "1/1 [==============================] - 0s 40ms/step - loss: 0.1307 - acc: 0.9621 - val_loss: 0.4268 - val_acc: 0.8393\n",
            "Epoch 71/500\n",
            "1/1 [==============================] - 0s 46ms/step - loss: 0.1282 - acc: 0.9621 - val_loss: 0.4171 - val_acc: 0.8393\n",
            "Epoch 72/500\n",
            "1/1 [==============================] - 0s 40ms/step - loss: 0.1252 - acc: 0.9697 - val_loss: 0.4149 - val_acc: 0.8571\n",
            "Epoch 73/500\n",
            "1/1 [==============================] - 0s 41ms/step - loss: 0.1226 - acc: 0.9697 - val_loss: 0.4184 - val_acc: 0.8393\n",
            "Epoch 74/500\n",
            "1/1 [==============================] - 0s 41ms/step - loss: 0.1209 - acc: 0.9773 - val_loss: 0.4210 - val_acc: 0.8393\n",
            "Epoch 75/500\n",
            "1/1 [==============================] - 0s 42ms/step - loss: 0.1189 - acc: 0.9773 - val_loss: 0.4185 - val_acc: 0.8214\n",
            "Epoch 76/500\n",
            "1/1 [==============================] - 0s 40ms/step - loss: 0.1164 - acc: 0.9773 - val_loss: 0.4117 - val_acc: 0.8036\n",
            "Epoch 77/500\n",
            "1/1 [==============================] - 0s 40ms/step - loss: 0.1143 - acc: 0.9773 - val_loss: 0.4036 - val_acc: 0.8036\n",
            "Epoch 78/500\n",
            "1/1 [==============================] - 0s 40ms/step - loss: 0.1128 - acc: 0.9773 - val_loss: 0.3963 - val_acc: 0.8036\n",
            "Epoch 79/500\n",
            "1/1 [==============================] - 0s 41ms/step - loss: 0.1107 - acc: 0.9773 - val_loss: 0.3905 - val_acc: 0.8036\n",
            "Epoch 80/500\n",
            "1/1 [==============================] - 0s 41ms/step - loss: 0.1082 - acc: 0.9773 - val_loss: 0.3852 - val_acc: 0.8036\n",
            "Epoch 81/500\n",
            "1/1 [==============================] - 0s 46ms/step - loss: 0.1062 - acc: 0.9773 - val_loss: 0.3780 - val_acc: 0.8036\n",
            "Epoch 82/500\n",
            "1/1 [==============================] - 0s 46ms/step - loss: 0.1044 - acc: 0.9773 - val_loss: 0.3679 - val_acc: 0.8036\n",
            "Epoch 83/500\n",
            "1/1 [==============================] - 0s 46ms/step - loss: 0.1023 - acc: 0.9848 - val_loss: 0.3581 - val_acc: 0.8036\n",
            "Epoch 84/500\n",
            "1/1 [==============================] - 0s 42ms/step - loss: 0.1002 - acc: 0.9848 - val_loss: 0.3522 - val_acc: 0.8036\n",
            "Epoch 85/500\n",
            "1/1 [==============================] - 0s 39ms/step - loss: 0.0985 - acc: 0.9848 - val_loss: 0.3502 - val_acc: 0.8036\n",
            "Epoch 86/500\n",
            "1/1 [==============================] - 0s 43ms/step - loss: 0.0968 - acc: 0.9848 - val_loss: 0.3492 - val_acc: 0.8036\n",
            "Epoch 87/500\n",
            "1/1 [==============================] - 0s 44ms/step - loss: 0.0949 - acc: 0.9848 - val_loss: 0.3456 - val_acc: 0.8036\n",
            "Epoch 88/500\n",
            "1/1 [==============================] - 0s 37ms/step - loss: 0.0931 - acc: 0.9848 - val_loss: 0.3378 - val_acc: 0.8036\n",
            "Epoch 89/500\n",
            "1/1 [==============================] - 0s 38ms/step - loss: 0.0914 - acc: 0.9848 - val_loss: 0.3279 - val_acc: 0.8214\n",
            "Epoch 90/500\n",
            "1/1 [==============================] - 0s 43ms/step - loss: 0.0896 - acc: 0.9848 - val_loss: 0.3204 - val_acc: 0.8214\n",
            "Epoch 91/500\n",
            "1/1 [==============================] - 0s 40ms/step - loss: 0.0879 - acc: 0.9848 - val_loss: 0.3182 - val_acc: 0.8214\n",
            "Epoch 92/500\n",
            "1/1 [==============================] - 0s 41ms/step - loss: 0.0863 - acc: 0.9848 - val_loss: 0.3207 - val_acc: 0.8214\n",
            "Epoch 93/500\n",
            "1/1 [==============================] - 0s 40ms/step - loss: 0.0846 - acc: 0.9848 - val_loss: 0.3235 - val_acc: 0.8214\n",
            "Epoch 94/500\n",
            "1/1 [==============================] - 0s 42ms/step - loss: 0.0830 - acc: 0.9848 - val_loss: 0.3220 - val_acc: 0.8214\n",
            "Epoch 95/500\n",
            "1/1 [==============================] - 0s 41ms/step - loss: 0.0815 - acc: 0.9848 - val_loss: 0.3152 - val_acc: 0.8214\n",
            "Epoch 96/500\n",
            "1/1 [==============================] - 0s 40ms/step - loss: 0.0798 - acc: 0.9848 - val_loss: 0.3063 - val_acc: 0.8214\n",
            "Epoch 97/500\n",
            "1/1 [==============================] - 0s 39ms/step - loss: 0.0783 - acc: 0.9848 - val_loss: 0.3000 - val_acc: 0.8214\n",
            "Epoch 98/500\n",
            "1/1 [==============================] - 0s 40ms/step - loss: 0.0768 - acc: 0.9848 - val_loss: 0.2988 - val_acc: 0.8214\n",
            "Epoch 99/500\n",
            "1/1 [==============================] - 0s 44ms/step - loss: 0.0753 - acc: 0.9848 - val_loss: 0.3015 - val_acc: 0.8214\n",
            "Epoch 100/500\n",
            "1/1 [==============================] - 0s 47ms/step - loss: 0.0738 - acc: 0.9848 - val_loss: 0.3043 - val_acc: 0.8214\n",
            "Epoch 101/500\n",
            "1/1 [==============================] - 0s 39ms/step - loss: 0.0725 - acc: 0.9848 - val_loss: 0.3037 - val_acc: 0.8214\n",
            "Epoch 102/500\n",
            "1/1 [==============================] - 0s 41ms/step - loss: 0.0711 - acc: 0.9848 - val_loss: 0.2992 - val_acc: 0.8214\n",
            "Epoch 103/500\n",
            "1/1 [==============================] - 0s 41ms/step - loss: 0.0697 - acc: 0.9848 - val_loss: 0.2934 - val_acc: 0.8214\n",
            "Epoch 104/500\n",
            "1/1 [==============================] - 0s 40ms/step - loss: 0.0683 - acc: 0.9848 - val_loss: 0.2895 - val_acc: 0.8214\n",
            "Epoch 105/500\n",
            "1/1 [==============================] - 0s 40ms/step - loss: 0.0670 - acc: 0.9848 - val_loss: 0.2890 - val_acc: 0.8214\n",
            "Epoch 106/500\n",
            "1/1 [==============================] - 0s 48ms/step - loss: 0.0657 - acc: 0.9848 - val_loss: 0.2906 - val_acc: 0.8214\n",
            "Epoch 107/500\n",
            "1/1 [==============================] - 0s 48ms/step - loss: 0.0644 - acc: 0.9924 - val_loss: 0.2919 - val_acc: 0.8214\n",
            "Epoch 108/500\n",
            "1/1 [==============================] - 0s 41ms/step - loss: 0.0631 - acc: 0.9924 - val_loss: 0.2910 - val_acc: 0.8214\n",
            "Epoch 109/500\n",
            "1/1 [==============================] - 0s 42ms/step - loss: 0.0619 - acc: 0.9924 - val_loss: 0.2879 - val_acc: 0.8214\n",
            "Epoch 110/500\n",
            "1/1 [==============================] - 0s 49ms/step - loss: 0.0606 - acc: 0.9924 - val_loss: 0.2839 - val_acc: 0.8214\n",
            "Epoch 111/500\n",
            "1/1 [==============================] - 0s 42ms/step - loss: 0.0594 - acc: 0.9924 - val_loss: 0.2806 - val_acc: 0.8214\n",
            "Epoch 112/500\n",
            "1/1 [==============================] - 0s 42ms/step - loss: 0.0582 - acc: 0.9924 - val_loss: 0.2785 - val_acc: 0.8214\n",
            "Epoch 113/500\n",
            "1/1 [==============================] - 0s 41ms/step - loss: 0.0570 - acc: 0.9924 - val_loss: 0.2774 - val_acc: 0.8214\n",
            "Epoch 114/500\n",
            "1/1 [==============================] - 0s 40ms/step - loss: 0.0559 - acc: 0.9924 - val_loss: 0.2767 - val_acc: 0.8393\n",
            "Epoch 115/500\n",
            "1/1 [==============================] - 0s 40ms/step - loss: 0.0547 - acc: 0.9924 - val_loss: 0.2760 - val_acc: 0.8393\n",
            "Epoch 116/500\n",
            "1/1 [==============================] - 0s 41ms/step - loss: 0.0536 - acc: 0.9924 - val_loss: 0.2747 - val_acc: 0.8393\n",
            "Epoch 117/500\n",
            "1/1 [==============================] - 0s 44ms/step - loss: 0.0525 - acc: 0.9924 - val_loss: 0.2727 - val_acc: 0.8393\n",
            "Epoch 118/500\n",
            "1/1 [==============================] - 0s 40ms/step - loss: 0.0514 - acc: 0.9924 - val_loss: 0.2702 - val_acc: 0.8393\n",
            "Epoch 119/500\n",
            "1/1 [==============================] - 0s 56ms/step - loss: 0.0503 - acc: 0.9924 - val_loss: 0.2679 - val_acc: 0.8393\n",
            "Epoch 120/500\n",
            "1/1 [==============================] - 0s 45ms/step - loss: 0.0493 - acc: 0.9924 - val_loss: 0.2666 - val_acc: 0.8393\n",
            "Epoch 121/500\n",
            "1/1 [==============================] - 0s 43ms/step - loss: 0.0482 - acc: 0.9924 - val_loss: 0.2665 - val_acc: 0.8571\n",
            "Epoch 122/500\n",
            "1/1 [==============================] - 0s 40ms/step - loss: 0.0472 - acc: 0.9924 - val_loss: 0.2671 - val_acc: 0.8571\n",
            "Epoch 123/500\n",
            "1/1 [==============================] - 0s 40ms/step - loss: 0.0462 - acc: 0.9924 - val_loss: 0.2673 - val_acc: 0.8571\n",
            "Epoch 124/500\n",
            "1/1 [==============================] - 0s 40ms/step - loss: 0.0452 - acc: 0.9924 - val_loss: 0.2664 - val_acc: 0.8571\n",
            "Epoch 125/500\n",
            "1/1 [==============================] - 0s 40ms/step - loss: 0.0443 - acc: 0.9924 - val_loss: 0.2645 - val_acc: 0.8571\n",
            "Epoch 126/500\n",
            "1/1 [==============================] - 0s 50ms/step - loss: 0.0433 - acc: 0.9924 - val_loss: 0.2625 - val_acc: 0.8571\n",
            "Epoch 127/500\n",
            "1/1 [==============================] - 0s 44ms/step - loss: 0.0424 - acc: 0.9924 - val_loss: 0.2615 - val_acc: 0.8571\n",
            "Epoch 128/500\n",
            "1/1 [==============================] - 0s 40ms/step - loss: 0.0415 - acc: 0.9924 - val_loss: 0.2615 - val_acc: 0.8571\n",
            "Epoch 129/500\n",
            "1/1 [==============================] - 0s 47ms/step - loss: 0.0406 - acc: 0.9924 - val_loss: 0.2621 - val_acc: 0.8571\n",
            "Epoch 130/500\n",
            "1/1 [==============================] - 0s 39ms/step - loss: 0.0397 - acc: 0.9924 - val_loss: 0.2623 - val_acc: 0.8571\n",
            "Epoch 131/500\n",
            "1/1 [==============================] - 0s 40ms/step - loss: 0.0388 - acc: 0.9924 - val_loss: 0.2617 - val_acc: 0.8571\n",
            "Epoch 132/500\n",
            "1/1 [==============================] - 0s 41ms/step - loss: 0.0380 - acc: 0.9924 - val_loss: 0.2606 - val_acc: 0.8571\n",
            "Epoch 133/500\n",
            "1/1 [==============================] - 0s 45ms/step - loss: 0.0371 - acc: 0.9924 - val_loss: 0.2596 - val_acc: 0.8571\n",
            "Epoch 134/500\n",
            "1/1 [==============================] - 0s 40ms/step - loss: 0.0363 - acc: 0.9924 - val_loss: 0.2591 - val_acc: 0.8571\n",
            "Epoch 135/500\n",
            "1/1 [==============================] - 0s 40ms/step - loss: 0.0355 - acc: 0.9924 - val_loss: 0.2592 - val_acc: 0.8571\n",
            "Epoch 136/500\n",
            "1/1 [==============================] - 0s 40ms/step - loss: 0.0348 - acc: 0.9924 - val_loss: 0.2597 - val_acc: 0.8571\n",
            "Epoch 137/500\n",
            "1/1 [==============================] - 0s 41ms/step - loss: 0.0340 - acc: 0.9924 - val_loss: 0.2602 - val_acc: 0.8571\n",
            "Epoch 138/500\n",
            "1/1 [==============================] - 0s 45ms/step - loss: 0.0333 - acc: 0.9924 - val_loss: 0.2605 - val_acc: 0.8571\n",
            "Epoch 139/500\n",
            "1/1 [==============================] - 0s 48ms/step - loss: 0.0326 - acc: 1.0000 - val_loss: 0.2604 - val_acc: 0.8571\n",
            "Epoch 140/500\n",
            "1/1 [==============================] - 0s 45ms/step - loss: 0.0319 - acc: 1.0000 - val_loss: 0.2601 - val_acc: 0.8571\n",
            "Epoch 141/500\n",
            "1/1 [==============================] - 0s 42ms/step - loss: 0.0312 - acc: 1.0000 - val_loss: 0.2598 - val_acc: 0.8571\n",
            "Epoch 142/500\n",
            "1/1 [==============================] - 0s 42ms/step - loss: 0.0305 - acc: 1.0000 - val_loss: 0.2598 - val_acc: 0.8571\n",
            "Epoch 143/500\n",
            "1/1 [==============================] - 0s 42ms/step - loss: 0.0299 - acc: 1.0000 - val_loss: 0.2601 - val_acc: 0.8571\n",
            "Epoch 144/500\n",
            "1/1 [==============================] - 0s 40ms/step - loss: 0.0292 - acc: 1.0000 - val_loss: 0.2608 - val_acc: 0.8571\n",
            "Epoch 145/500\n",
            "1/1 [==============================] - 0s 40ms/step - loss: 0.0286 - acc: 1.0000 - val_loss: 0.2613 - val_acc: 0.8571\n",
            "Epoch 146/500\n",
            "1/1 [==============================] - 0s 55ms/step - loss: 0.0280 - acc: 1.0000 - val_loss: 0.2616 - val_acc: 0.8571\n",
            "Epoch 147/500\n",
            "1/1 [==============================] - 0s 42ms/step - loss: 0.0274 - acc: 1.0000 - val_loss: 0.2616 - val_acc: 0.8571\n",
            "Epoch 148/500\n",
            "1/1 [==============================] - 0s 47ms/step - loss: 0.0269 - acc: 1.0000 - val_loss: 0.2616 - val_acc: 0.8571\n",
            "Epoch 149/500\n",
            "1/1 [==============================] - 0s 41ms/step - loss: 0.0263 - acc: 1.0000 - val_loss: 0.2617 - val_acc: 0.8750\n",
            "Epoch 150/500\n",
            "1/1 [==============================] - 0s 40ms/step - loss: 0.0258 - acc: 1.0000 - val_loss: 0.2621 - val_acc: 0.8750\n",
            "Epoch 151/500\n",
            "1/1 [==============================] - 0s 40ms/step - loss: 0.0252 - acc: 1.0000 - val_loss: 0.2627 - val_acc: 0.8750\n",
            "Epoch 152/500\n",
            "1/1 [==============================] - 0s 41ms/step - loss: 0.0247 - acc: 1.0000 - val_loss: 0.2635 - val_acc: 0.8929\n",
            "Epoch 153/500\n",
            "1/1 [==============================] - 0s 40ms/step - loss: 0.0242 - acc: 1.0000 - val_loss: 0.2641 - val_acc: 0.8929\n",
            "Epoch 154/500\n",
            "1/1 [==============================] - 0s 41ms/step - loss: 0.0237 - acc: 1.0000 - val_loss: 0.2646 - val_acc: 0.8929\n",
            "Epoch 155/500\n",
            "1/1 [==============================] - 0s 40ms/step - loss: 0.0233 - acc: 1.0000 - val_loss: 0.2650 - val_acc: 0.8929\n",
            "Epoch 156/500\n",
            "1/1 [==============================] - 0s 40ms/step - loss: 0.0228 - acc: 1.0000 - val_loss: 0.2654 - val_acc: 0.8929\n",
            "Epoch 157/500\n",
            "1/1 [==============================] - 0s 42ms/step - loss: 0.0223 - acc: 1.0000 - val_loss: 0.2660 - val_acc: 0.8929\n",
            "Epoch 158/500\n",
            "1/1 [==============================] - 0s 47ms/step - loss: 0.0219 - acc: 1.0000 - val_loss: 0.2667 - val_acc: 0.8929\n",
            "Epoch 159/500\n",
            "1/1 [==============================] - 0s 45ms/step - loss: 0.0215 - acc: 1.0000 - val_loss: 0.2675 - val_acc: 0.8929\n",
            "Epoch 160/500\n",
            "1/1 [==============================] - 0s 42ms/step - loss: 0.0211 - acc: 1.0000 - val_loss: 0.2685 - val_acc: 0.8929\n",
            "Epoch 161/500\n",
            "1/1 [==============================] - 0s 40ms/step - loss: 0.0207 - acc: 1.0000 - val_loss: 0.2693 - val_acc: 0.8929\n",
            "Epoch 162/500\n",
            "1/1 [==============================] - 0s 41ms/step - loss: 0.0203 - acc: 1.0000 - val_loss: 0.2700 - val_acc: 0.8929\n",
            "Epoch 163/500\n",
            "1/1 [==============================] - 0s 42ms/step - loss: 0.0199 - acc: 1.0000 - val_loss: 0.2707 - val_acc: 0.8929\n",
            "Epoch 164/500\n",
            "1/1 [==============================] - 0s 40ms/step - loss: 0.0195 - acc: 1.0000 - val_loss: 0.2714 - val_acc: 0.8929\n",
            "Epoch 165/500\n",
            "1/1 [==============================] - 0s 41ms/step - loss: 0.0192 - acc: 1.0000 - val_loss: 0.2722 - val_acc: 0.8929\n",
            "Epoch 166/500\n",
            "1/1 [==============================] - 0s 61ms/step - loss: 0.0188 - acc: 1.0000 - val_loss: 0.2731 - val_acc: 0.8929\n",
            "Epoch 167/500\n",
            "1/1 [==============================] - 0s 56ms/step - loss: 0.0185 - acc: 1.0000 - val_loss: 0.2741 - val_acc: 0.8929\n",
            "Epoch 168/500\n",
            "1/1 [==============================] - 0s 42ms/step - loss: 0.0182 - acc: 1.0000 - val_loss: 0.2750 - val_acc: 0.8929\n",
            "Epoch 169/500\n",
            "1/1 [==============================] - 0s 41ms/step - loss: 0.0178 - acc: 1.0000 - val_loss: 0.2760 - val_acc: 0.8929\n",
            "Epoch 170/500\n",
            "1/1 [==============================] - 0s 40ms/step - loss: 0.0175 - acc: 1.0000 - val_loss: 0.2769 - val_acc: 0.8929\n",
            "Epoch 171/500\n",
            "1/1 [==============================] - 0s 40ms/step - loss: 0.0172 - acc: 1.0000 - val_loss: 0.2778 - val_acc: 0.8929\n",
            "Epoch 172/500\n",
            "1/1 [==============================] - 0s 39ms/step - loss: 0.0169 - acc: 1.0000 - val_loss: 0.2787 - val_acc: 0.8929\n",
            "Epoch 173/500\n",
            "1/1 [==============================] - 0s 41ms/step - loss: 0.0166 - acc: 1.0000 - val_loss: 0.2796 - val_acc: 0.8929\n",
            "Epoch 174/500\n",
            "1/1 [==============================] - 0s 40ms/step - loss: 0.0163 - acc: 1.0000 - val_loss: 0.2805 - val_acc: 0.8929\n",
            "Epoch 175/500\n",
            "1/1 [==============================] - 0s 41ms/step - loss: 0.0161 - acc: 1.0000 - val_loss: 0.2816 - val_acc: 0.8929\n",
            "Epoch 176/500\n",
            "1/1 [==============================] - 0s 40ms/step - loss: 0.0158 - acc: 1.0000 - val_loss: 0.2826 - val_acc: 0.8750\n",
            "Epoch 177/500\n",
            "1/1 [==============================] - 0s 46ms/step - loss: 0.0155 - acc: 1.0000 - val_loss: 0.2837 - val_acc: 0.8750\n",
            "Epoch 178/500\n",
            "1/1 [==============================] - 0s 40ms/step - loss: 0.0153 - acc: 1.0000 - val_loss: 0.2847 - val_acc: 0.8750\n",
            "Epoch 179/500\n",
            "1/1 [==============================] - 0s 41ms/step - loss: 0.0150 - acc: 1.0000 - val_loss: 0.2856 - val_acc: 0.8750\n",
            "Epoch 180/500\n",
            "1/1 [==============================] - 0s 44ms/step - loss: 0.0148 - acc: 1.0000 - val_loss: 0.2865 - val_acc: 0.8750\n",
            "Epoch 181/500\n",
            "1/1 [==============================] - 0s 44ms/step - loss: 0.0146 - acc: 1.0000 - val_loss: 0.2875 - val_acc: 0.8750\n",
            "Epoch 182/500\n",
            "1/1 [==============================] - 0s 41ms/step - loss: 0.0143 - acc: 1.0000 - val_loss: 0.2885 - val_acc: 0.8750\n",
            "Epoch 183/500\n",
            "1/1 [==============================] - 0s 40ms/step - loss: 0.0141 - acc: 1.0000 - val_loss: 0.2896 - val_acc: 0.8750\n",
            "Epoch 184/500\n",
            "1/1 [==============================] - 0s 43ms/step - loss: 0.0139 - acc: 1.0000 - val_loss: 0.2906 - val_acc: 0.8750\n",
            "Epoch 185/500\n",
            "1/1 [==============================] - 0s 41ms/step - loss: 0.0137 - acc: 1.0000 - val_loss: 0.2917 - val_acc: 0.8750\n",
            "Epoch 186/500\n",
            "1/1 [==============================] - 0s 48ms/step - loss: 0.0135 - acc: 1.0000 - val_loss: 0.2928 - val_acc: 0.8571\n",
            "Epoch 187/500\n",
            "1/1 [==============================] - 0s 47ms/step - loss: 0.0132 - acc: 1.0000 - val_loss: 0.2938 - val_acc: 0.8571\n",
            "Epoch 188/500\n",
            "1/1 [==============================] - 0s 38ms/step - loss: 0.0130 - acc: 1.0000 - val_loss: 0.2948 - val_acc: 0.8571\n",
            "Epoch 189/500\n",
            "1/1 [==============================] - 0s 39ms/step - loss: 0.0129 - acc: 1.0000 - val_loss: 0.2958 - val_acc: 0.8571\n",
            "Epoch 190/500\n",
            "1/1 [==============================] - 0s 37ms/step - loss: 0.0127 - acc: 1.0000 - val_loss: 0.2969 - val_acc: 0.8571\n",
            "Epoch 191/500\n",
            "1/1 [==============================] - 0s 38ms/step - loss: 0.0125 - acc: 1.0000 - val_loss: 0.2979 - val_acc: 0.8571\n",
            "Epoch 192/500\n",
            "1/1 [==============================] - 0s 38ms/step - loss: 0.0123 - acc: 1.0000 - val_loss: 0.2990 - val_acc: 0.8571\n",
            "Epoch 193/500\n",
            "1/1 [==============================] - 0s 46ms/step - loss: 0.0121 - acc: 1.0000 - val_loss: 0.3001 - val_acc: 0.8571\n",
            "Epoch 194/500\n",
            "1/1 [==============================] - 0s 39ms/step - loss: 0.0119 - acc: 1.0000 - val_loss: 0.3012 - val_acc: 0.8571\n",
            "Epoch 195/500\n",
            "1/1 [==============================] - 0s 38ms/step - loss: 0.0118 - acc: 1.0000 - val_loss: 0.3023 - val_acc: 0.8571\n",
            "Epoch 196/500\n",
            "1/1 [==============================] - 0s 44ms/step - loss: 0.0116 - acc: 1.0000 - val_loss: 0.3034 - val_acc: 0.8571\n",
            "Epoch 197/500\n",
            "1/1 [==============================] - 0s 38ms/step - loss: 0.0114 - acc: 1.0000 - val_loss: 0.3044 - val_acc: 0.8571\n",
            "Epoch 198/500\n",
            "1/1 [==============================] - 0s 39ms/step - loss: 0.0113 - acc: 1.0000 - val_loss: 0.3055 - val_acc: 0.8571\n",
            "Epoch 199/500\n",
            "1/1 [==============================] - 0s 45ms/step - loss: 0.0111 - acc: 1.0000 - val_loss: 0.3065 - val_acc: 0.8571\n",
            "Epoch 200/500\n",
            "1/1 [==============================] - 0s 42ms/step - loss: 0.0110 - acc: 1.0000 - val_loss: 0.3076 - val_acc: 0.8571\n",
            "Epoch 201/500\n",
            "1/1 [==============================] - 0s 44ms/step - loss: 0.0108 - acc: 1.0000 - val_loss: 0.3087 - val_acc: 0.8571\n",
            "Epoch 202/500\n",
            "1/1 [==============================] - 0s 41ms/step - loss: 0.0107 - acc: 1.0000 - val_loss: 0.3098 - val_acc: 0.8571\n",
            "Epoch 203/500\n",
            "1/1 [==============================] - 0s 42ms/step - loss: 0.0105 - acc: 1.0000 - val_loss: 0.3109 - val_acc: 0.8571\n",
            "Epoch 204/500\n",
            "1/1 [==============================] - 0s 41ms/step - loss: 0.0104 - acc: 1.0000 - val_loss: 0.3119 - val_acc: 0.8571\n",
            "Epoch 205/500\n",
            "1/1 [==============================] - 0s 38ms/step - loss: 0.0103 - acc: 1.0000 - val_loss: 0.3130 - val_acc: 0.8571\n",
            "Epoch 206/500\n",
            "1/1 [==============================] - 0s 51ms/step - loss: 0.0101 - acc: 1.0000 - val_loss: 0.3140 - val_acc: 0.8571\n",
            "Epoch 207/500\n",
            "1/1 [==============================] - 0s 54ms/step - loss: 0.0100 - acc: 1.0000 - val_loss: 0.3151 - val_acc: 0.8571\n",
            "Epoch 208/500\n",
            "1/1 [==============================] - 0s 42ms/step - loss: 0.0099 - acc: 1.0000 - val_loss: 0.3161 - val_acc: 0.8571\n",
            "Epoch 209/500\n",
            "1/1 [==============================] - 0s 44ms/step - loss: 0.0097 - acc: 1.0000 - val_loss: 0.3171 - val_acc: 0.8571\n",
            "Epoch 210/500\n",
            "1/1 [==============================] - 0s 40ms/step - loss: 0.0096 - acc: 1.0000 - val_loss: 0.3182 - val_acc: 0.8571\n",
            "Epoch 211/500\n",
            "1/1 [==============================] - 0s 40ms/step - loss: 0.0095 - acc: 1.0000 - val_loss: 0.3192 - val_acc: 0.8571\n",
            "Epoch 212/500\n",
            "1/1 [==============================] - 0s 39ms/step - loss: 0.0094 - acc: 1.0000 - val_loss: 0.3203 - val_acc: 0.8571\n",
            "Epoch 213/500\n",
            "1/1 [==============================] - 0s 42ms/step - loss: 0.0093 - acc: 1.0000 - val_loss: 0.3213 - val_acc: 0.8571\n",
            "Epoch 214/500\n",
            "1/1 [==============================] - 0s 40ms/step - loss: 0.0092 - acc: 1.0000 - val_loss: 0.3223 - val_acc: 0.8571\n",
            "Epoch 215/500\n",
            "1/1 [==============================] - 0s 47ms/step - loss: 0.0090 - acc: 1.0000 - val_loss: 0.3233 - val_acc: 0.8571\n",
            "Epoch 216/500\n",
            "1/1 [==============================] - 0s 49ms/step - loss: 0.0089 - acc: 1.0000 - val_loss: 0.3243 - val_acc: 0.8571\n",
            "Epoch 217/500\n",
            "1/1 [==============================] - 0s 44ms/step - loss: 0.0088 - acc: 1.0000 - val_loss: 0.3254 - val_acc: 0.8571\n",
            "Epoch 218/500\n",
            "1/1 [==============================] - 0s 40ms/step - loss: 0.0087 - acc: 1.0000 - val_loss: 0.3264 - val_acc: 0.8571\n",
            "Epoch 219/500\n",
            "1/1 [==============================] - 0s 40ms/step - loss: 0.0086 - acc: 1.0000 - val_loss: 0.3274 - val_acc: 0.8571\n",
            "Epoch 220/500\n",
            "1/1 [==============================] - 0s 40ms/step - loss: 0.0085 - acc: 1.0000 - val_loss: 0.3284 - val_acc: 0.8571\n",
            "Epoch 221/500\n",
            "1/1 [==============================] - 0s 41ms/step - loss: 0.0084 - acc: 1.0000 - val_loss: 0.3294 - val_acc: 0.8571\n",
            "Epoch 222/500\n",
            "1/1 [==============================] - 0s 41ms/step - loss: 0.0083 - acc: 1.0000 - val_loss: 0.3304 - val_acc: 0.8571\n",
            "Epoch 223/500\n",
            "1/1 [==============================] - 0s 46ms/step - loss: 0.0082 - acc: 1.0000 - val_loss: 0.3314 - val_acc: 0.8571\n",
            "Epoch 224/500\n",
            "1/1 [==============================] - 0s 39ms/step - loss: 0.0081 - acc: 1.0000 - val_loss: 0.3324 - val_acc: 0.8571\n",
            "Epoch 225/500\n",
            "1/1 [==============================] - 0s 53ms/step - loss: 0.0080 - acc: 1.0000 - val_loss: 0.3333 - val_acc: 0.8571\n",
            "Epoch 226/500\n",
            "1/1 [==============================] - 0s 41ms/step - loss: 0.0079 - acc: 1.0000 - val_loss: 0.3343 - val_acc: 0.8571\n",
            "Epoch 227/500\n",
            "1/1 [==============================] - 0s 48ms/step - loss: 0.0079 - acc: 1.0000 - val_loss: 0.3353 - val_acc: 0.8571\n",
            "Epoch 228/500\n",
            "1/1 [==============================] - 0s 42ms/step - loss: 0.0078 - acc: 1.0000 - val_loss: 0.3363 - val_acc: 0.8571\n",
            "Epoch 229/500\n",
            "1/1 [==============================] - 0s 41ms/step - loss: 0.0077 - acc: 1.0000 - val_loss: 0.3372 - val_acc: 0.8571\n",
            "Epoch 230/500\n",
            "1/1 [==============================] - 0s 41ms/step - loss: 0.0076 - acc: 1.0000 - val_loss: 0.3382 - val_acc: 0.8571\n",
            "Epoch 231/500\n",
            "1/1 [==============================] - 0s 40ms/step - loss: 0.0075 - acc: 1.0000 - val_loss: 0.3392 - val_acc: 0.8571\n",
            "Epoch 232/500\n",
            "1/1 [==============================] - 0s 41ms/step - loss: 0.0074 - acc: 1.0000 - val_loss: 0.3401 - val_acc: 0.8571\n",
            "Epoch 233/500\n",
            "1/1 [==============================] - 0s 42ms/step - loss: 0.0074 - acc: 1.0000 - val_loss: 0.3411 - val_acc: 0.8571\n",
            "Epoch 234/500\n",
            "1/1 [==============================] - 0s 49ms/step - loss: 0.0073 - acc: 1.0000 - val_loss: 0.3420 - val_acc: 0.8571\n",
            "Epoch 235/500\n",
            "1/1 [==============================] - 0s 45ms/step - loss: 0.0072 - acc: 1.0000 - val_loss: 0.3430 - val_acc: 0.8571\n",
            "Epoch 236/500\n",
            "1/1 [==============================] - 0s 42ms/step - loss: 0.0071 - acc: 1.0000 - val_loss: 0.3439 - val_acc: 0.8571\n",
            "Epoch 237/500\n",
            "1/1 [==============================] - 0s 41ms/step - loss: 0.0070 - acc: 1.0000 - val_loss: 0.3449 - val_acc: 0.8571\n",
            "Epoch 238/500\n",
            "1/1 [==============================] - 0s 40ms/step - loss: 0.0070 - acc: 1.0000 - val_loss: 0.3458 - val_acc: 0.8571\n",
            "Epoch 239/500\n",
            "1/1 [==============================] - 0s 39ms/step - loss: 0.0069 - acc: 1.0000 - val_loss: 0.3467 - val_acc: 0.8571\n",
            "Epoch 240/500\n",
            "1/1 [==============================] - 0s 43ms/step - loss: 0.0068 - acc: 1.0000 - val_loss: 0.3477 - val_acc: 0.8571\n",
            "Epoch 241/500\n",
            "1/1 [==============================] - 0s 47ms/step - loss: 0.0068 - acc: 1.0000 - val_loss: 0.3486 - val_acc: 0.8571\n",
            "Epoch 242/500\n",
            "1/1 [==============================] - 0s 44ms/step - loss: 0.0067 - acc: 1.0000 - val_loss: 0.3495 - val_acc: 0.8571\n",
            "Epoch 243/500\n",
            "1/1 [==============================] - 0s 43ms/step - loss: 0.0066 - acc: 1.0000 - val_loss: 0.3505 - val_acc: 0.8571\n",
            "Epoch 244/500\n",
            "1/1 [==============================] - 0s 48ms/step - loss: 0.0066 - acc: 1.0000 - val_loss: 0.3514 - val_acc: 0.8571\n",
            "Epoch 245/500\n",
            "1/1 [==============================] - 0s 175ms/step - loss: 0.0065 - acc: 1.0000 - val_loss: 0.3523 - val_acc: 0.8571\n",
            "Epoch 246/500\n",
            "1/1 [==============================] - 0s 40ms/step - loss: 0.0064 - acc: 1.0000 - val_loss: 0.3532 - val_acc: 0.8571\n",
            "Epoch 247/500\n",
            "1/1 [==============================] - 0s 40ms/step - loss: 0.0064 - acc: 1.0000 - val_loss: 0.3541 - val_acc: 0.8571\n",
            "Epoch 248/500\n",
            "1/1 [==============================] - 0s 40ms/step - loss: 0.0063 - acc: 1.0000 - val_loss: 0.3550 - val_acc: 0.8571\n",
            "Epoch 249/500\n",
            "1/1 [==============================] - 0s 39ms/step - loss: 0.0062 - acc: 1.0000 - val_loss: 0.3559 - val_acc: 0.8571\n",
            "Epoch 250/500\n",
            "1/1 [==============================] - 0s 40ms/step - loss: 0.0062 - acc: 1.0000 - val_loss: 0.3568 - val_acc: 0.8571\n",
            "Epoch 251/500\n",
            "1/1 [==============================] - 0s 41ms/step - loss: 0.0061 - acc: 1.0000 - val_loss: 0.3577 - val_acc: 0.8571\n",
            "Epoch 252/500\n",
            "1/1 [==============================] - 0s 46ms/step - loss: 0.0061 - acc: 1.0000 - val_loss: 0.3586 - val_acc: 0.8571\n",
            "Epoch 253/500\n",
            "1/1 [==============================] - 0s 47ms/step - loss: 0.0060 - acc: 1.0000 - val_loss: 0.3595 - val_acc: 0.8571\n",
            "Epoch 254/500\n",
            "1/1 [==============================] - 0s 47ms/step - loss: 0.0059 - acc: 1.0000 - val_loss: 0.3603 - val_acc: 0.8571\n",
            "Epoch 255/500\n",
            "1/1 [==============================] - 0s 40ms/step - loss: 0.0059 - acc: 1.0000 - val_loss: 0.3612 - val_acc: 0.8571\n",
            "Epoch 256/500\n",
            "1/1 [==============================] - 0s 38ms/step - loss: 0.0058 - acc: 1.0000 - val_loss: 0.3621 - val_acc: 0.8571\n",
            "Epoch 257/500\n",
            "1/1 [==============================] - 0s 41ms/step - loss: 0.0058 - acc: 1.0000 - val_loss: 0.3630 - val_acc: 0.8571\n",
            "Epoch 258/500\n",
            "1/1 [==============================] - 0s 47ms/step - loss: 0.0057 - acc: 1.0000 - val_loss: 0.3638 - val_acc: 0.8571\n",
            "Epoch 259/500\n",
            "1/1 [==============================] - 0s 42ms/step - loss: 0.0057 - acc: 1.0000 - val_loss: 0.3647 - val_acc: 0.8571\n",
            "Epoch 260/500\n",
            "1/1 [==============================] - 0s 41ms/step - loss: 0.0056 - acc: 1.0000 - val_loss: 0.3655 - val_acc: 0.8571\n",
            "Epoch 261/500\n",
            "1/1 [==============================] - 0s 40ms/step - loss: 0.0056 - acc: 1.0000 - val_loss: 0.3664 - val_acc: 0.8571\n",
            "Epoch 262/500\n",
            "1/1 [==============================] - 0s 47ms/step - loss: 0.0055 - acc: 1.0000 - val_loss: 0.3673 - val_acc: 0.8571\n",
            "Epoch 263/500\n",
            "1/1 [==============================] - 0s 53ms/step - loss: 0.0055 - acc: 1.0000 - val_loss: 0.3681 - val_acc: 0.8571\n",
            "Epoch 264/500\n",
            "1/1 [==============================] - 0s 59ms/step - loss: 0.0054 - acc: 1.0000 - val_loss: 0.3689 - val_acc: 0.8571\n",
            "Epoch 265/500\n",
            "1/1 [==============================] - 0s 41ms/step - loss: 0.0054 - acc: 1.0000 - val_loss: 0.3698 - val_acc: 0.8571\n",
            "Epoch 266/500\n",
            "1/1 [==============================] - 0s 41ms/step - loss: 0.0053 - acc: 1.0000 - val_loss: 0.3706 - val_acc: 0.8571\n",
            "Epoch 267/500\n",
            "1/1 [==============================] - 0s 41ms/step - loss: 0.0053 - acc: 1.0000 - val_loss: 0.3715 - val_acc: 0.8571\n",
            "Epoch 268/500\n",
            "1/1 [==============================] - 0s 43ms/step - loss: 0.0052 - acc: 1.0000 - val_loss: 0.3723 - val_acc: 0.8571\n",
            "Epoch 269/500\n",
            "1/1 [==============================] - 0s 40ms/step - loss: 0.0052 - acc: 1.0000 - val_loss: 0.3731 - val_acc: 0.8571\n",
            "Epoch 270/500\n",
            "1/1 [==============================] - 0s 42ms/step - loss: 0.0051 - acc: 1.0000 - val_loss: 0.3739 - val_acc: 0.8571\n",
            "Epoch 271/500\n",
            "1/1 [==============================] - 0s 42ms/step - loss: 0.0051 - acc: 1.0000 - val_loss: 0.3748 - val_acc: 0.8571\n",
            "Epoch 272/500\n",
            "1/1 [==============================] - 0s 41ms/step - loss: 0.0050 - acc: 1.0000 - val_loss: 0.3756 - val_acc: 0.8571\n",
            "Epoch 273/500\n",
            "1/1 [==============================] - 0s 49ms/step - loss: 0.0050 - acc: 1.0000 - val_loss: 0.3764 - val_acc: 0.8571\n",
            "Epoch 274/500\n",
            "1/1 [==============================] - 0s 42ms/step - loss: 0.0050 - acc: 1.0000 - val_loss: 0.3772 - val_acc: 0.8571\n",
            "Epoch 275/500\n",
            "1/1 [==============================] - 0s 44ms/step - loss: 0.0049 - acc: 1.0000 - val_loss: 0.3780 - val_acc: 0.8571\n",
            "Epoch 276/500\n",
            "1/1 [==============================] - 0s 41ms/step - loss: 0.0049 - acc: 1.0000 - val_loss: 0.3788 - val_acc: 0.8571\n",
            "Epoch 277/500\n",
            "1/1 [==============================] - 0s 39ms/step - loss: 0.0048 - acc: 1.0000 - val_loss: 0.3796 - val_acc: 0.8571\n",
            "Epoch 278/500\n",
            "1/1 [==============================] - 0s 39ms/step - loss: 0.0048 - acc: 1.0000 - val_loss: 0.3804 - val_acc: 0.8571\n",
            "Epoch 279/500\n",
            "1/1 [==============================] - 0s 39ms/step - loss: 0.0048 - acc: 1.0000 - val_loss: 0.3812 - val_acc: 0.8571\n",
            "Epoch 280/500\n",
            "1/1 [==============================] - 0s 39ms/step - loss: 0.0047 - acc: 1.0000 - val_loss: 0.3820 - val_acc: 0.8571\n",
            "Epoch 281/500\n",
            "1/1 [==============================] - 0s 57ms/step - loss: 0.0047 - acc: 1.0000 - val_loss: 0.3828 - val_acc: 0.8571\n",
            "Epoch 282/500\n",
            "1/1 [==============================] - 0s 43ms/step - loss: 0.0046 - acc: 1.0000 - val_loss: 0.3836 - val_acc: 0.8571\n",
            "Epoch 283/500\n",
            "1/1 [==============================] - 0s 60ms/step - loss: 0.0046 - acc: 1.0000 - val_loss: 0.3843 - val_acc: 0.8571\n",
            "Epoch 284/500\n",
            "1/1 [==============================] - 0s 42ms/step - loss: 0.0046 - acc: 1.0000 - val_loss: 0.3851 - val_acc: 0.8571\n",
            "Epoch 285/500\n",
            "1/1 [==============================] - 0s 40ms/step - loss: 0.0045 - acc: 1.0000 - val_loss: 0.3859 - val_acc: 0.8571\n",
            "Epoch 286/500\n",
            "1/1 [==============================] - 0s 40ms/step - loss: 0.0045 - acc: 1.0000 - val_loss: 0.3867 - val_acc: 0.8571\n",
            "Epoch 287/500\n",
            "1/1 [==============================] - 0s 41ms/step - loss: 0.0045 - acc: 1.0000 - val_loss: 0.3874 - val_acc: 0.8571\n",
            "Epoch 288/500\n",
            "1/1 [==============================] - 0s 41ms/step - loss: 0.0044 - acc: 1.0000 - val_loss: 0.3882 - val_acc: 0.8571\n",
            "Epoch 289/500\n",
            "1/1 [==============================] - 0s 40ms/step - loss: 0.0044 - acc: 1.0000 - val_loss: 0.3890 - val_acc: 0.8571\n",
            "Epoch 290/500\n",
            "1/1 [==============================] - 0s 39ms/step - loss: 0.0043 - acc: 1.0000 - val_loss: 0.3897 - val_acc: 0.8571\n",
            "Epoch 291/500\n",
            "1/1 [==============================] - 0s 39ms/step - loss: 0.0043 - acc: 1.0000 - val_loss: 0.3905 - val_acc: 0.8571\n",
            "Epoch 292/500\n",
            "1/1 [==============================] - 0s 49ms/step - loss: 0.0043 - acc: 1.0000 - val_loss: 0.3912 - val_acc: 0.8571\n",
            "Epoch 293/500\n",
            "1/1 [==============================] - 0s 45ms/step - loss: 0.0042 - acc: 1.0000 - val_loss: 0.3920 - val_acc: 0.8571\n",
            "Epoch 294/500\n",
            "1/1 [==============================] - 0s 45ms/step - loss: 0.0042 - acc: 1.0000 - val_loss: 0.3927 - val_acc: 0.8571\n",
            "Epoch 295/500\n",
            "1/1 [==============================] - 0s 44ms/step - loss: 0.0042 - acc: 1.0000 - val_loss: 0.3935 - val_acc: 0.8571\n",
            "Epoch 296/500\n",
            "1/1 [==============================] - 0s 41ms/step - loss: 0.0041 - acc: 1.0000 - val_loss: 0.3942 - val_acc: 0.8571\n",
            "Epoch 297/500\n",
            "1/1 [==============================] - 0s 40ms/step - loss: 0.0041 - acc: 1.0000 - val_loss: 0.3949 - val_acc: 0.8571\n",
            "Epoch 298/500\n",
            "1/1 [==============================] - 0s 41ms/step - loss: 0.0041 - acc: 1.0000 - val_loss: 0.3957 - val_acc: 0.8571\n",
            "Epoch 299/500\n",
            "1/1 [==============================] - 0s 41ms/step - loss: 0.0041 - acc: 1.0000 - val_loss: 0.3964 - val_acc: 0.8571\n",
            "Epoch 300/500\n",
            "1/1 [==============================] - 0s 51ms/step - loss: 0.0040 - acc: 1.0000 - val_loss: 0.3971 - val_acc: 0.8571\n",
            "Epoch 301/500\n",
            "1/1 [==============================] - 0s 43ms/step - loss: 0.0040 - acc: 1.0000 - val_loss: 0.3978 - val_acc: 0.8571\n",
            "Epoch 302/500\n",
            "1/1 [==============================] - 0s 53ms/step - loss: 0.0040 - acc: 1.0000 - val_loss: 0.3986 - val_acc: 0.8571\n",
            "Epoch 303/500\n",
            "1/1 [==============================] - 0s 43ms/step - loss: 0.0039 - acc: 1.0000 - val_loss: 0.3993 - val_acc: 0.8571\n",
            "Epoch 304/500\n",
            "1/1 [==============================] - 0s 41ms/step - loss: 0.0039 - acc: 1.0000 - val_loss: 0.4000 - val_acc: 0.8571\n",
            "Epoch 305/500\n",
            "1/1 [==============================] - 0s 41ms/step - loss: 0.0039 - acc: 1.0000 - val_loss: 0.4007 - val_acc: 0.8571\n",
            "Epoch 306/500\n",
            "1/1 [==============================] - 0s 46ms/step - loss: 0.0038 - acc: 1.0000 - val_loss: 0.4014 - val_acc: 0.8571\n",
            "Epoch 307/500\n",
            "1/1 [==============================] - 0s 41ms/step - loss: 0.0038 - acc: 1.0000 - val_loss: 0.4021 - val_acc: 0.8571\n",
            "Epoch 308/500\n",
            "1/1 [==============================] - 0s 50ms/step - loss: 0.0038 - acc: 1.0000 - val_loss: 0.4028 - val_acc: 0.8571\n",
            "Epoch 309/500\n",
            "1/1 [==============================] - 0s 43ms/step - loss: 0.0038 - acc: 1.0000 - val_loss: 0.4035 - val_acc: 0.8571\n",
            "Epoch 310/500\n",
            "1/1 [==============================] - 0s 42ms/step - loss: 0.0037 - acc: 1.0000 - val_loss: 0.4042 - val_acc: 0.8571\n",
            "Epoch 311/500\n",
            "1/1 [==============================] - 0s 42ms/step - loss: 0.0037 - acc: 1.0000 - val_loss: 0.4049 - val_acc: 0.8571\n",
            "Epoch 312/500\n",
            "1/1 [==============================] - 0s 54ms/step - loss: 0.0037 - acc: 1.0000 - val_loss: 0.4056 - val_acc: 0.8571\n",
            "Epoch 313/500\n",
            "1/1 [==============================] - 0s 45ms/step - loss: 0.0037 - acc: 1.0000 - val_loss: 0.4063 - val_acc: 0.8571\n",
            "Epoch 314/500\n",
            "1/1 [==============================] - 0s 43ms/step - loss: 0.0036 - acc: 1.0000 - val_loss: 0.4070 - val_acc: 0.8571\n",
            "Epoch 315/500\n",
            "1/1 [==============================] - 0s 40ms/step - loss: 0.0036 - acc: 1.0000 - val_loss: 0.4077 - val_acc: 0.8571\n",
            "Epoch 316/500\n",
            "1/1 [==============================] - 0s 38ms/step - loss: 0.0036 - acc: 1.0000 - val_loss: 0.4084 - val_acc: 0.8571\n",
            "Epoch 317/500\n",
            "1/1 [==============================] - 0s 39ms/step - loss: 0.0035 - acc: 1.0000 - val_loss: 0.4091 - val_acc: 0.8571\n",
            "Epoch 318/500\n",
            "1/1 [==============================] - 0s 50ms/step - loss: 0.0035 - acc: 1.0000 - val_loss: 0.4097 - val_acc: 0.8571\n",
            "Epoch 319/500\n",
            "1/1 [==============================] - 0s 44ms/step - loss: 0.0035 - acc: 1.0000 - val_loss: 0.4104 - val_acc: 0.8571\n",
            "Epoch 320/500\n",
            "1/1 [==============================] - 0s 39ms/step - loss: 0.0035 - acc: 1.0000 - val_loss: 0.4111 - val_acc: 0.8571\n",
            "Epoch 321/500\n",
            "1/1 [==============================] - 0s 45ms/step - loss: 0.0035 - acc: 1.0000 - val_loss: 0.4118 - val_acc: 0.8571\n",
            "Epoch 322/500\n",
            "1/1 [==============================] - 0s 44ms/step - loss: 0.0034 - acc: 1.0000 - val_loss: 0.4124 - val_acc: 0.8571\n",
            "Epoch 323/500\n",
            "1/1 [==============================] - 0s 53ms/step - loss: 0.0034 - acc: 1.0000 - val_loss: 0.4131 - val_acc: 0.8571\n",
            "Epoch 324/500\n",
            "1/1 [==============================] - 0s 46ms/step - loss: 0.0034 - acc: 1.0000 - val_loss: 0.4138 - val_acc: 0.8571\n",
            "Epoch 325/500\n",
            "1/1 [==============================] - 0s 43ms/step - loss: 0.0034 - acc: 1.0000 - val_loss: 0.4144 - val_acc: 0.8571\n",
            "Epoch 326/500\n",
            "1/1 [==============================] - 0s 47ms/step - loss: 0.0033 - acc: 1.0000 - val_loss: 0.4151 - val_acc: 0.8571\n",
            "Epoch 327/500\n",
            "1/1 [==============================] - 0s 39ms/step - loss: 0.0033 - acc: 1.0000 - val_loss: 0.4157 - val_acc: 0.8571\n",
            "Epoch 328/500\n",
            "1/1 [==============================] - 0s 40ms/step - loss: 0.0033 - acc: 1.0000 - val_loss: 0.4164 - val_acc: 0.8571\n",
            "Epoch 329/500\n",
            "1/1 [==============================] - 0s 38ms/step - loss: 0.0033 - acc: 1.0000 - val_loss: 0.4170 - val_acc: 0.8571\n",
            "Epoch 330/500\n",
            "1/1 [==============================] - 0s 41ms/step - loss: 0.0032 - acc: 1.0000 - val_loss: 0.4177 - val_acc: 0.8571\n",
            "Epoch 331/500\n",
            "1/1 [==============================] - 0s 51ms/step - loss: 0.0032 - acc: 1.0000 - val_loss: 0.4183 - val_acc: 0.8571\n",
            "Epoch 332/500\n",
            "1/1 [==============================] - 0s 44ms/step - loss: 0.0032 - acc: 1.0000 - val_loss: 0.4190 - val_acc: 0.8571\n",
            "Epoch 333/500\n",
            "1/1 [==============================] - 0s 41ms/step - loss: 0.0032 - acc: 1.0000 - val_loss: 0.4196 - val_acc: 0.8571\n",
            "Epoch 334/500\n",
            "1/1 [==============================] - 0s 46ms/step - loss: 0.0032 - acc: 1.0000 - val_loss: 0.4203 - val_acc: 0.8571\n",
            "Epoch 335/500\n",
            "1/1 [==============================] - 0s 41ms/step - loss: 0.0031 - acc: 1.0000 - val_loss: 0.4209 - val_acc: 0.8571\n",
            "Epoch 336/500\n",
            "1/1 [==============================] - 0s 40ms/step - loss: 0.0031 - acc: 1.0000 - val_loss: 0.4215 - val_acc: 0.8571\n",
            "Epoch 337/500\n",
            "1/1 [==============================] - 0s 41ms/step - loss: 0.0031 - acc: 1.0000 - val_loss: 0.4222 - val_acc: 0.8571\n",
            "Epoch 338/500\n",
            "1/1 [==============================] - 0s 47ms/step - loss: 0.0031 - acc: 1.0000 - val_loss: 0.4228 - val_acc: 0.8571\n",
            "Epoch 339/500\n",
            "1/1 [==============================] - 0s 44ms/step - loss: 0.0031 - acc: 1.0000 - val_loss: 0.4234 - val_acc: 0.8571\n",
            "Epoch 340/500\n",
            "1/1 [==============================] - 0s 41ms/step - loss: 0.0030 - acc: 1.0000 - val_loss: 0.4241 - val_acc: 0.8571\n",
            "Epoch 341/500\n",
            "1/1 [==============================] - 0s 59ms/step - loss: 0.0030 - acc: 1.0000 - val_loss: 0.4247 - val_acc: 0.8571\n",
            "Epoch 342/500\n",
            "1/1 [==============================] - 0s 41ms/step - loss: 0.0030 - acc: 1.0000 - val_loss: 0.4253 - val_acc: 0.8571\n",
            "Epoch 343/500\n",
            "1/1 [==============================] - 0s 41ms/step - loss: 0.0030 - acc: 1.0000 - val_loss: 0.4259 - val_acc: 0.8571\n",
            "Epoch 344/500\n",
            "1/1 [==============================] - 0s 46ms/step - loss: 0.0030 - acc: 1.0000 - val_loss: 0.4266 - val_acc: 0.8571\n",
            "Epoch 345/500\n",
            "1/1 [==============================] - 0s 43ms/step - loss: 0.0029 - acc: 1.0000 - val_loss: 0.4272 - val_acc: 0.8571\n",
            "Epoch 346/500\n",
            "1/1 [==============================] - 0s 40ms/step - loss: 0.0029 - acc: 1.0000 - val_loss: 0.4278 - val_acc: 0.8571\n",
            "Epoch 347/500\n",
            "1/1 [==============================] - 0s 41ms/step - loss: 0.0029 - acc: 1.0000 - val_loss: 0.4284 - val_acc: 0.8571\n",
            "Epoch 348/500\n",
            "1/1 [==============================] - 0s 40ms/step - loss: 0.0029 - acc: 1.0000 - val_loss: 0.4290 - val_acc: 0.8571\n",
            "Epoch 349/500\n",
            "1/1 [==============================] - 0s 41ms/step - loss: 0.0029 - acc: 1.0000 - val_loss: 0.4296 - val_acc: 0.8571\n",
            "Epoch 350/500\n",
            "1/1 [==============================] - 0s 55ms/step - loss: 0.0029 - acc: 1.0000 - val_loss: 0.4302 - val_acc: 0.8571\n",
            "Epoch 351/500\n",
            "1/1 [==============================] - 0s 45ms/step - loss: 0.0028 - acc: 1.0000 - val_loss: 0.4308 - val_acc: 0.8571\n",
            "Epoch 352/500\n",
            "1/1 [==============================] - 0s 42ms/step - loss: 0.0028 - acc: 1.0000 - val_loss: 0.4314 - val_acc: 0.8571\n",
            "Epoch 353/500\n",
            "1/1 [==============================] - 0s 43ms/step - loss: 0.0028 - acc: 1.0000 - val_loss: 0.4320 - val_acc: 0.8571\n",
            "Epoch 354/500\n",
            "1/1 [==============================] - 0s 41ms/step - loss: 0.0028 - acc: 1.0000 - val_loss: 0.4326 - val_acc: 0.8571\n",
            "Epoch 355/500\n",
            "1/1 [==============================] - 0s 41ms/step - loss: 0.0028 - acc: 1.0000 - val_loss: 0.4332 - val_acc: 0.8571\n",
            "Epoch 356/500\n",
            "1/1 [==============================] - 0s 43ms/step - loss: 0.0027 - acc: 1.0000 - val_loss: 0.4338 - val_acc: 0.8571\n",
            "Epoch 357/500\n",
            "1/1 [==============================] - 0s 55ms/step - loss: 0.0027 - acc: 1.0000 - val_loss: 0.4344 - val_acc: 0.8571\n",
            "Epoch 358/500\n",
            "1/1 [==============================] - 0s 48ms/step - loss: 0.0027 - acc: 1.0000 - val_loss: 0.4350 - val_acc: 0.8571\n",
            "Epoch 359/500\n",
            "1/1 [==============================] - 0s 42ms/step - loss: 0.0027 - acc: 1.0000 - val_loss: 0.4356 - val_acc: 0.8571\n",
            "Epoch 360/500\n",
            "1/1 [==============================] - 0s 58ms/step - loss: 0.0027 - acc: 1.0000 - val_loss: 0.4362 - val_acc: 0.8571\n",
            "Epoch 361/500\n",
            "1/1 [==============================] - 0s 43ms/step - loss: 0.0027 - acc: 1.0000 - val_loss: 0.4368 - val_acc: 0.8571\n",
            "Epoch 362/500\n",
            "1/1 [==============================] - 0s 49ms/step - loss: 0.0026 - acc: 1.0000 - val_loss: 0.4373 - val_acc: 0.8571\n",
            "Epoch 363/500\n",
            "1/1 [==============================] - 0s 46ms/step - loss: 0.0026 - acc: 1.0000 - val_loss: 0.4379 - val_acc: 0.8571\n",
            "Epoch 364/500\n",
            "1/1 [==============================] - 0s 41ms/step - loss: 0.0026 - acc: 1.0000 - val_loss: 0.4385 - val_acc: 0.8571\n",
            "Epoch 365/500\n",
            "1/1 [==============================] - 0s 42ms/step - loss: 0.0026 - acc: 1.0000 - val_loss: 0.4391 - val_acc: 0.8571\n",
            "Epoch 366/500\n",
            "1/1 [==============================] - 0s 42ms/step - loss: 0.0026 - acc: 1.0000 - val_loss: 0.4397 - val_acc: 0.8571\n",
            "Epoch 367/500\n",
            "1/1 [==============================] - 0s 41ms/step - loss: 0.0026 - acc: 1.0000 - val_loss: 0.4402 - val_acc: 0.8571\n",
            "Epoch 368/500\n",
            "1/1 [==============================] - 0s 47ms/step - loss: 0.0026 - acc: 1.0000 - val_loss: 0.4408 - val_acc: 0.8571\n",
            "Epoch 369/500\n",
            "1/1 [==============================] - 0s 41ms/step - loss: 0.0025 - acc: 1.0000 - val_loss: 0.4414 - val_acc: 0.8571\n",
            "Epoch 370/500\n",
            "1/1 [==============================] - 0s 48ms/step - loss: 0.0025 - acc: 1.0000 - val_loss: 0.4419 - val_acc: 0.8571\n",
            "Epoch 371/500\n",
            "1/1 [==============================] - 0s 41ms/step - loss: 0.0025 - acc: 1.0000 - val_loss: 0.4425 - val_acc: 0.8571\n",
            "Epoch 372/500\n",
            "1/1 [==============================] - 0s 40ms/step - loss: 0.0025 - acc: 1.0000 - val_loss: 0.4431 - val_acc: 0.8571\n",
            "Epoch 373/500\n",
            "1/1 [==============================] - 0s 47ms/step - loss: 0.0025 - acc: 1.0000 - val_loss: 0.4436 - val_acc: 0.8571\n",
            "Epoch 374/500\n",
            "1/1 [==============================] - 0s 44ms/step - loss: 0.0025 - acc: 1.0000 - val_loss: 0.4442 - val_acc: 0.8571\n",
            "Epoch 375/500\n",
            "1/1 [==============================] - 0s 41ms/step - loss: 0.0025 - acc: 1.0000 - val_loss: 0.4448 - val_acc: 0.8571\n",
            "Epoch 376/500\n",
            "1/1 [==============================] - 0s 42ms/step - loss: 0.0024 - acc: 1.0000 - val_loss: 0.4453 - val_acc: 0.8571\n",
            "Epoch 377/500\n",
            "1/1 [==============================] - 0s 44ms/step - loss: 0.0024 - acc: 1.0000 - val_loss: 0.4459 - val_acc: 0.8571\n",
            "Epoch 378/500\n",
            "1/1 [==============================] - 0s 40ms/step - loss: 0.0024 - acc: 1.0000 - val_loss: 0.4464 - val_acc: 0.8571\n",
            "Epoch 379/500\n",
            "1/1 [==============================] - 0s 51ms/step - loss: 0.0024 - acc: 1.0000 - val_loss: 0.4470 - val_acc: 0.8571\n",
            "Epoch 380/500\n",
            "1/1 [==============================] - 0s 47ms/step - loss: 0.0024 - acc: 1.0000 - val_loss: 0.4475 - val_acc: 0.8571\n",
            "Epoch 381/500\n",
            "1/1 [==============================] - 0s 41ms/step - loss: 0.0024 - acc: 1.0000 - val_loss: 0.4481 - val_acc: 0.8571\n",
            "Epoch 382/500\n",
            "1/1 [==============================] - 0s 41ms/step - loss: 0.0024 - acc: 1.0000 - val_loss: 0.4486 - val_acc: 0.8571\n",
            "Epoch 383/500\n",
            "1/1 [==============================] - 0s 42ms/step - loss: 0.0023 - acc: 1.0000 - val_loss: 0.4492 - val_acc: 0.8571\n",
            "Epoch 384/500\n",
            "1/1 [==============================] - 0s 40ms/step - loss: 0.0023 - acc: 1.0000 - val_loss: 0.4497 - val_acc: 0.8571\n",
            "Epoch 385/500\n",
            "1/1 [==============================] - 0s 40ms/step - loss: 0.0023 - acc: 1.0000 - val_loss: 0.4503 - val_acc: 0.8571\n",
            "Epoch 386/500\n",
            "1/1 [==============================] - 0s 46ms/step - loss: 0.0023 - acc: 1.0000 - val_loss: 0.4508 - val_acc: 0.8571\n",
            "Epoch 387/500\n",
            "1/1 [==============================] - 0s 40ms/step - loss: 0.0023 - acc: 1.0000 - val_loss: 0.4514 - val_acc: 0.8571\n",
            "Epoch 388/500\n",
            "1/1 [==============================] - 0s 40ms/step - loss: 0.0023 - acc: 1.0000 - val_loss: 0.4519 - val_acc: 0.8571\n",
            "Epoch 389/500\n",
            "1/1 [==============================] - 0s 48ms/step - loss: 0.0023 - acc: 1.0000 - val_loss: 0.4524 - val_acc: 0.8571\n",
            "Epoch 390/500\n",
            "1/1 [==============================] - 0s 43ms/step - loss: 0.0023 - acc: 1.0000 - val_loss: 0.4530 - val_acc: 0.8571\n",
            "Epoch 391/500\n",
            "1/1 [==============================] - 0s 40ms/step - loss: 0.0022 - acc: 1.0000 - val_loss: 0.4535 - val_acc: 0.8571\n",
            "Epoch 392/500\n",
            "1/1 [==============================] - 0s 46ms/step - loss: 0.0022 - acc: 1.0000 - val_loss: 0.4540 - val_acc: 0.8571\n",
            "Epoch 393/500\n",
            "1/1 [==============================] - 0s 42ms/step - loss: 0.0022 - acc: 1.0000 - val_loss: 0.4546 - val_acc: 0.8571\n",
            "Epoch 394/500\n",
            "1/1 [==============================] - 0s 43ms/step - loss: 0.0022 - acc: 1.0000 - val_loss: 0.4551 - val_acc: 0.8571\n",
            "Epoch 395/500\n",
            "1/1 [==============================] - 0s 43ms/step - loss: 0.0022 - acc: 1.0000 - val_loss: 0.4556 - val_acc: 0.8571\n",
            "Epoch 396/500\n",
            "1/1 [==============================] - 0s 47ms/step - loss: 0.0022 - acc: 1.0000 - val_loss: 0.4561 - val_acc: 0.8571\n",
            "Epoch 397/500\n",
            "1/1 [==============================] - 0s 47ms/step - loss: 0.0022 - acc: 1.0000 - val_loss: 0.4567 - val_acc: 0.8571\n",
            "Epoch 398/500\n",
            "1/1 [==============================] - 0s 46ms/step - loss: 0.0022 - acc: 1.0000 - val_loss: 0.4572 - val_acc: 0.8571\n",
            "Epoch 399/500\n",
            "1/1 [==============================] - 0s 60ms/step - loss: 0.0021 - acc: 1.0000 - val_loss: 0.4577 - val_acc: 0.8571\n",
            "Epoch 400/500\n",
            "1/1 [==============================] - 0s 41ms/step - loss: 0.0021 - acc: 1.0000 - val_loss: 0.4582 - val_acc: 0.8571\n",
            "Epoch 401/500\n",
            "1/1 [==============================] - 0s 44ms/step - loss: 0.0021 - acc: 1.0000 - val_loss: 0.4587 - val_acc: 0.8571\n",
            "Epoch 402/500\n",
            "1/1 [==============================] - 0s 44ms/step - loss: 0.0021 - acc: 1.0000 - val_loss: 0.4593 - val_acc: 0.8571\n",
            "Epoch 403/500\n",
            "1/1 [==============================] - 0s 43ms/step - loss: 0.0021 - acc: 1.0000 - val_loss: 0.4598 - val_acc: 0.8571\n",
            "Epoch 404/500\n",
            "1/1 [==============================] - 0s 41ms/step - loss: 0.0021 - acc: 1.0000 - val_loss: 0.4603 - val_acc: 0.8571\n",
            "Epoch 405/500\n",
            "1/1 [==============================] - 0s 42ms/step - loss: 0.0021 - acc: 1.0000 - val_loss: 0.4608 - val_acc: 0.8571\n",
            "Epoch 406/500\n",
            "1/1 [==============================] - 0s 42ms/step - loss: 0.0021 - acc: 1.0000 - val_loss: 0.4613 - val_acc: 0.8571\n",
            "Epoch 407/500\n",
            "1/1 [==============================] - 0s 40ms/step - loss: 0.0021 - acc: 1.0000 - val_loss: 0.4618 - val_acc: 0.8571\n",
            "Epoch 408/500\n",
            "1/1 [==============================] - 0s 45ms/step - loss: 0.0020 - acc: 1.0000 - val_loss: 0.4623 - val_acc: 0.8571\n",
            "Epoch 409/500\n",
            "1/1 [==============================] - 0s 39ms/step - loss: 0.0020 - acc: 1.0000 - val_loss: 0.4628 - val_acc: 0.8571\n",
            "Epoch 410/500\n",
            "1/1 [==============================] - 0s 45ms/step - loss: 0.0020 - acc: 1.0000 - val_loss: 0.4634 - val_acc: 0.8571\n",
            "Epoch 411/500\n",
            "1/1 [==============================] - 0s 44ms/step - loss: 0.0020 - acc: 1.0000 - val_loss: 0.4639 - val_acc: 0.8571\n",
            "Epoch 412/500\n",
            "1/1 [==============================] - 0s 41ms/step - loss: 0.0020 - acc: 1.0000 - val_loss: 0.4644 - val_acc: 0.8571\n",
            "Epoch 413/500\n",
            "1/1 [==============================] - 0s 41ms/step - loss: 0.0020 - acc: 1.0000 - val_loss: 0.4649 - val_acc: 0.8571\n",
            "Epoch 414/500\n",
            "1/1 [==============================] - 0s 42ms/step - loss: 0.0020 - acc: 1.0000 - val_loss: 0.4654 - val_acc: 0.8571\n",
            "Epoch 415/500\n",
            "1/1 [==============================] - 0s 43ms/step - loss: 0.0020 - acc: 1.0000 - val_loss: 0.4659 - val_acc: 0.8571\n",
            "Epoch 416/500\n",
            "1/1 [==============================] - 0s 47ms/step - loss: 0.0020 - acc: 1.0000 - val_loss: 0.4664 - val_acc: 0.8571\n",
            "Epoch 417/500\n",
            "1/1 [==============================] - 0s 41ms/step - loss: 0.0020 - acc: 1.0000 - val_loss: 0.4669 - val_acc: 0.8571\n",
            "Epoch 418/500\n",
            "1/1 [==============================] - 0s 54ms/step - loss: 0.0019 - acc: 1.0000 - val_loss: 0.4673 - val_acc: 0.8571\n",
            "Epoch 419/500\n",
            "1/1 [==============================] - 0s 43ms/step - loss: 0.0019 - acc: 1.0000 - val_loss: 0.4678 - val_acc: 0.8571\n",
            "Epoch 420/500\n",
            "1/1 [==============================] - 0s 41ms/step - loss: 0.0019 - acc: 1.0000 - val_loss: 0.4683 - val_acc: 0.8571\n",
            "Epoch 421/500\n",
            "1/1 [==============================] - 0s 45ms/step - loss: 0.0019 - acc: 1.0000 - val_loss: 0.4688 - val_acc: 0.8571\n",
            "Epoch 422/500\n",
            "1/1 [==============================] - 0s 40ms/step - loss: 0.0019 - acc: 1.0000 - val_loss: 0.4693 - val_acc: 0.8571\n",
            "Epoch 423/500\n",
            "1/1 [==============================] - 0s 41ms/step - loss: 0.0019 - acc: 1.0000 - val_loss: 0.4698 - val_acc: 0.8571\n",
            "Epoch 424/500\n",
            "1/1 [==============================] - 0s 41ms/step - loss: 0.0019 - acc: 1.0000 - val_loss: 0.4703 - val_acc: 0.8571\n",
            "Epoch 425/500\n",
            "1/1 [==============================] - 0s 40ms/step - loss: 0.0019 - acc: 1.0000 - val_loss: 0.4708 - val_acc: 0.8571\n",
            "Epoch 426/500\n",
            "1/1 [==============================] - 0s 38ms/step - loss: 0.0019 - acc: 1.0000 - val_loss: 0.4713 - val_acc: 0.8571\n",
            "Epoch 427/500\n",
            "1/1 [==============================] - 0s 53ms/step - loss: 0.0019 - acc: 1.0000 - val_loss: 0.4717 - val_acc: 0.8571\n",
            "Epoch 428/500\n",
            "1/1 [==============================] - 0s 41ms/step - loss: 0.0019 - acc: 1.0000 - val_loss: 0.4722 - val_acc: 0.8571\n",
            "Epoch 429/500\n",
            "1/1 [==============================] - 0s 40ms/step - loss: 0.0018 - acc: 1.0000 - val_loss: 0.4727 - val_acc: 0.8571\n",
            "Epoch 430/500\n",
            "1/1 [==============================] - 0s 40ms/step - loss: 0.0018 - acc: 1.0000 - val_loss: 0.4732 - val_acc: 0.8571\n",
            "Epoch 431/500\n",
            "1/1 [==============================] - 0s 41ms/step - loss: 0.0018 - acc: 1.0000 - val_loss: 0.4737 - val_acc: 0.8571\n",
            "Epoch 432/500\n",
            "1/1 [==============================] - 0s 41ms/step - loss: 0.0018 - acc: 1.0000 - val_loss: 0.4741 - val_acc: 0.8571\n",
            "Epoch 433/500\n",
            "1/1 [==============================] - 0s 39ms/step - loss: 0.0018 - acc: 1.0000 - val_loss: 0.4746 - val_acc: 0.8571\n",
            "Epoch 434/500\n",
            "1/1 [==============================] - 0s 46ms/step - loss: 0.0018 - acc: 1.0000 - val_loss: 0.4751 - val_acc: 0.8571\n",
            "Epoch 435/500\n",
            "1/1 [==============================] - 0s 51ms/step - loss: 0.0018 - acc: 1.0000 - val_loss: 0.4756 - val_acc: 0.8571\n",
            "Epoch 436/500\n",
            "1/1 [==============================] - 0s 41ms/step - loss: 0.0018 - acc: 1.0000 - val_loss: 0.4760 - val_acc: 0.8571\n",
            "Epoch 437/500\n",
            "1/1 [==============================] - 0s 48ms/step - loss: 0.0018 - acc: 1.0000 - val_loss: 0.4765 - val_acc: 0.8571\n",
            "Epoch 438/500\n",
            "1/1 [==============================] - 0s 50ms/step - loss: 0.0018 - acc: 1.0000 - val_loss: 0.4770 - val_acc: 0.8571\n",
            "Epoch 439/500\n",
            "1/1 [==============================] - 0s 46ms/step - loss: 0.0018 - acc: 1.0000 - val_loss: 0.4775 - val_acc: 0.8571\n",
            "Epoch 440/500\n",
            "1/1 [==============================] - 0s 40ms/step - loss: 0.0017 - acc: 1.0000 - val_loss: 0.4779 - val_acc: 0.8571\n",
            "Epoch 441/500\n",
            "1/1 [==============================] - 0s 40ms/step - loss: 0.0017 - acc: 1.0000 - val_loss: 0.4784 - val_acc: 0.8571\n",
            "Epoch 442/500\n",
            "1/1 [==============================] - 0s 40ms/step - loss: 0.0017 - acc: 1.0000 - val_loss: 0.4788 - val_acc: 0.8571\n",
            "Epoch 443/500\n",
            "1/1 [==============================] - 0s 40ms/step - loss: 0.0017 - acc: 1.0000 - val_loss: 0.4793 - val_acc: 0.8571\n",
            "Epoch 444/500\n",
            "1/1 [==============================] - 0s 41ms/step - loss: 0.0017 - acc: 1.0000 - val_loss: 0.4798 - val_acc: 0.8571\n",
            "Epoch 445/500\n",
            "1/1 [==============================] - 0s 45ms/step - loss: 0.0017 - acc: 1.0000 - val_loss: 0.4802 - val_acc: 0.8571\n",
            "Epoch 446/500\n",
            "1/1 [==============================] - 0s 40ms/step - loss: 0.0017 - acc: 1.0000 - val_loss: 0.4807 - val_acc: 0.8571\n",
            "Epoch 447/500\n",
            "1/1 [==============================] - 0s 47ms/step - loss: 0.0017 - acc: 1.0000 - val_loss: 0.4812 - val_acc: 0.8571\n",
            "Epoch 448/500\n",
            "1/1 [==============================] - 0s 40ms/step - loss: 0.0017 - acc: 1.0000 - val_loss: 0.4816 - val_acc: 0.8571\n",
            "Epoch 449/500\n",
            "1/1 [==============================] - 0s 40ms/step - loss: 0.0017 - acc: 1.0000 - val_loss: 0.4821 - val_acc: 0.8571\n",
            "Epoch 450/500\n",
            "1/1 [==============================] - 0s 40ms/step - loss: 0.0017 - acc: 1.0000 - val_loss: 0.4825 - val_acc: 0.8571\n",
            "Epoch 451/500\n",
            "1/1 [==============================] - 0s 46ms/step - loss: 0.0017 - acc: 1.0000 - val_loss: 0.4830 - val_acc: 0.8571\n",
            "Epoch 452/500\n",
            "1/1 [==============================] - 0s 41ms/step - loss: 0.0017 - acc: 1.0000 - val_loss: 0.4834 - val_acc: 0.8571\n",
            "Epoch 453/500\n",
            "1/1 [==============================] - 0s 40ms/step - loss: 0.0016 - acc: 1.0000 - val_loss: 0.4839 - val_acc: 0.8571\n",
            "Epoch 454/500\n",
            "1/1 [==============================] - 0s 44ms/step - loss: 0.0016 - acc: 1.0000 - val_loss: 0.4843 - val_acc: 0.8571\n",
            "Epoch 455/500\n",
            "1/1 [==============================] - 0s 41ms/step - loss: 0.0016 - acc: 1.0000 - val_loss: 0.4848 - val_acc: 0.8571\n",
            "Epoch 456/500\n",
            "1/1 [==============================] - 0s 47ms/step - loss: 0.0016 - acc: 1.0000 - val_loss: 0.4852 - val_acc: 0.8571\n",
            "Epoch 457/500\n",
            "1/1 [==============================] - 0s 48ms/step - loss: 0.0016 - acc: 1.0000 - val_loss: 0.4857 - val_acc: 0.8750\n",
            "Epoch 458/500\n",
            "1/1 [==============================] - 0s 45ms/step - loss: 0.0016 - acc: 1.0000 - val_loss: 0.4861 - val_acc: 0.8750\n",
            "Epoch 459/500\n",
            "1/1 [==============================] - 0s 42ms/step - loss: 0.0016 - acc: 1.0000 - val_loss: 0.4866 - val_acc: 0.8750\n",
            "Epoch 460/500\n",
            "1/1 [==============================] - 0s 42ms/step - loss: 0.0016 - acc: 1.0000 - val_loss: 0.4870 - val_acc: 0.8750\n",
            "Epoch 461/500\n",
            "1/1 [==============================] - 0s 40ms/step - loss: 0.0016 - acc: 1.0000 - val_loss: 0.4875 - val_acc: 0.8750\n",
            "Epoch 462/500\n",
            "1/1 [==============================] - 0s 57ms/step - loss: 0.0016 - acc: 1.0000 - val_loss: 0.4879 - val_acc: 0.8750\n",
            "Epoch 463/500\n",
            "1/1 [==============================] - 0s 43ms/step - loss: 0.0016 - acc: 1.0000 - val_loss: 0.4884 - val_acc: 0.8750\n",
            "Epoch 464/500\n",
            "1/1 [==============================] - 0s 42ms/step - loss: 0.0016 - acc: 1.0000 - val_loss: 0.4888 - val_acc: 0.8750\n",
            "Epoch 465/500\n",
            "1/1 [==============================] - 0s 46ms/step - loss: 0.0016 - acc: 1.0000 - val_loss: 0.4892 - val_acc: 0.8750\n",
            "Epoch 466/500\n",
            "1/1 [==============================] - 0s 45ms/step - loss: 0.0016 - acc: 1.0000 - val_loss: 0.4897 - val_acc: 0.8750\n",
            "Epoch 467/500\n",
            "1/1 [==============================] - 0s 39ms/step - loss: 0.0015 - acc: 1.0000 - val_loss: 0.4901 - val_acc: 0.8750\n",
            "Epoch 468/500\n",
            "1/1 [==============================] - 0s 43ms/step - loss: 0.0015 - acc: 1.0000 - val_loss: 0.4906 - val_acc: 0.8750\n",
            "Epoch 469/500\n",
            "1/1 [==============================] - 0s 42ms/step - loss: 0.0015 - acc: 1.0000 - val_loss: 0.4910 - val_acc: 0.8750\n",
            "Epoch 470/500\n",
            "1/1 [==============================] - 0s 47ms/step - loss: 0.0015 - acc: 1.0000 - val_loss: 0.4914 - val_acc: 0.8750\n",
            "Epoch 471/500\n",
            "1/1 [==============================] - 0s 50ms/step - loss: 0.0015 - acc: 1.0000 - val_loss: 0.4919 - val_acc: 0.8750\n",
            "Epoch 472/500\n",
            "1/1 [==============================] - 0s 43ms/step - loss: 0.0015 - acc: 1.0000 - val_loss: 0.4923 - val_acc: 0.8750\n",
            "Epoch 473/500\n",
            "1/1 [==============================] - 0s 48ms/step - loss: 0.0015 - acc: 1.0000 - val_loss: 0.4927 - val_acc: 0.8750\n",
            "Epoch 474/500\n",
            "1/1 [==============================] - 0s 48ms/step - loss: 0.0015 - acc: 1.0000 - val_loss: 0.4932 - val_acc: 0.8750\n",
            "Epoch 475/500\n",
            "1/1 [==============================] - 0s 45ms/step - loss: 0.0015 - acc: 1.0000 - val_loss: 0.4936 - val_acc: 0.8750\n",
            "Epoch 476/500\n",
            "1/1 [==============================] - 0s 58ms/step - loss: 0.0015 - acc: 1.0000 - val_loss: 0.4940 - val_acc: 0.8750\n",
            "Epoch 477/500\n",
            "1/1 [==============================] - 0s 44ms/step - loss: 0.0015 - acc: 1.0000 - val_loss: 0.4944 - val_acc: 0.8750\n",
            "Epoch 478/500\n",
            "1/1 [==============================] - 0s 41ms/step - loss: 0.0015 - acc: 1.0000 - val_loss: 0.4949 - val_acc: 0.8750\n",
            "Epoch 479/500\n",
            "1/1 [==============================] - 0s 41ms/step - loss: 0.0015 - acc: 1.0000 - val_loss: 0.4953 - val_acc: 0.8750\n",
            "Epoch 480/500\n",
            "1/1 [==============================] - 0s 41ms/step - loss: 0.0015 - acc: 1.0000 - val_loss: 0.4957 - val_acc: 0.8750\n",
            "Epoch 481/500\n",
            "1/1 [==============================] - 0s 42ms/step - loss: 0.0015 - acc: 1.0000 - val_loss: 0.4961 - val_acc: 0.8750\n",
            "Epoch 482/500\n",
            "1/1 [==============================] - 0s 41ms/step - loss: 0.0014 - acc: 1.0000 - val_loss: 0.4966 - val_acc: 0.8750\n",
            "Epoch 483/500\n",
            "1/1 [==============================] - 0s 42ms/step - loss: 0.0014 - acc: 1.0000 - val_loss: 0.4970 - val_acc: 0.8750\n",
            "Epoch 484/500\n",
            "1/1 [==============================] - 0s 40ms/step - loss: 0.0014 - acc: 1.0000 - val_loss: 0.4974 - val_acc: 0.8750\n",
            "Epoch 485/500\n",
            "1/1 [==============================] - 0s 46ms/step - loss: 0.0014 - acc: 1.0000 - val_loss: 0.4978 - val_acc: 0.8750\n",
            "Epoch 486/500\n",
            "1/1 [==============================] - 0s 39ms/step - loss: 0.0014 - acc: 1.0000 - val_loss: 0.4982 - val_acc: 0.8750\n",
            "Epoch 487/500\n",
            "1/1 [==============================] - 0s 46ms/step - loss: 0.0014 - acc: 1.0000 - val_loss: 0.4987 - val_acc: 0.8750\n",
            "Epoch 488/500\n",
            "1/1 [==============================] - 0s 41ms/step - loss: 0.0014 - acc: 1.0000 - val_loss: 0.4991 - val_acc: 0.8750\n",
            "Epoch 489/500\n",
            "1/1 [==============================] - 0s 40ms/step - loss: 0.0014 - acc: 1.0000 - val_loss: 0.4995 - val_acc: 0.8750\n",
            "Epoch 490/500\n",
            "1/1 [==============================] - 0s 43ms/step - loss: 0.0014 - acc: 1.0000 - val_loss: 0.4999 - val_acc: 0.8750\n",
            "Epoch 491/500\n",
            "1/1 [==============================] - 0s 41ms/step - loss: 0.0014 - acc: 1.0000 - val_loss: 0.5003 - val_acc: 0.8750\n",
            "Epoch 492/500\n",
            "1/1 [==============================] - 0s 49ms/step - loss: 0.0014 - acc: 1.0000 - val_loss: 0.5007 - val_acc: 0.8750\n",
            "Epoch 493/500\n",
            "1/1 [==============================] - 0s 46ms/step - loss: 0.0014 - acc: 1.0000 - val_loss: 0.5012 - val_acc: 0.8750\n",
            "Epoch 494/500\n",
            "1/1 [==============================] - 0s 43ms/step - loss: 0.0014 - acc: 1.0000 - val_loss: 0.5016 - val_acc: 0.8750\n",
            "Epoch 495/500\n",
            "1/1 [==============================] - 0s 50ms/step - loss: 0.0014 - acc: 1.0000 - val_loss: 0.5020 - val_acc: 0.8750\n",
            "Epoch 496/500\n",
            "1/1 [==============================] - 0s 54ms/step - loss: 0.0014 - acc: 1.0000 - val_loss: 0.5024 - val_acc: 0.8750\n",
            "Epoch 497/500\n",
            "1/1 [==============================] - 0s 43ms/step - loss: 0.0014 - acc: 1.0000 - val_loss: 0.5028 - val_acc: 0.8750\n",
            "Epoch 498/500\n",
            "1/1 [==============================] - 0s 43ms/step - loss: 0.0014 - acc: 1.0000 - val_loss: 0.5032 - val_acc: 0.8750\n",
            "Epoch 499/500\n",
            "1/1 [==============================] - 0s 46ms/step - loss: 0.0013 - acc: 1.0000 - val_loss: 0.5036 - val_acc: 0.8750\n",
            "Epoch 500/500\n",
            "1/1 [==============================] - 0s 43ms/step - loss: 0.0013 - acc: 1.0000 - val_loss: 0.5040 - val_acc: 0.8750\n"
          ],
          "name": "stdout"
        },
        {
          "output_type": "execute_result",
          "data": {
            "text/plain": [
              "<tensorflow.python.keras.callbacks.History at 0x7f02102872e8>"
            ]
          },
          "metadata": {
            "tags": []
          },
          "execution_count": 19
        }
      ]
    },
    {
      "cell_type": "markdown",
      "metadata": {
        "id": "6vWgcmgmVeYX",
        "colab_type": "text"
      },
      "source": [
        "### 1.4 - Examining test set performance \n",
        "\n",
        "* Note that the `predict` function used here is defined in emo_util.spy."
      ]
    },
    {
      "cell_type": "markdown",
      "metadata": {
        "id": "TmLi_inRVeYa",
        "colab_type": "text"
      },
      "source": [
        "* Random guessing would have had 20% accuracy given that there are 5 classes. (1/5 = 20%).\n",
        "* This is pretty good performance after training on only 127 examples. \n",
        "\n",
        "\n",
        "#### The model matches emojis to relevant words\n",
        "In the training set, the algorithm saw the sentence \n",
        ">\"*I love you*\" \n",
        "\n",
        "with the label ❤️. \n",
        "\n",
        "\n"
      ]
    },
    {
      "cell_type": "code",
      "metadata": {
        "id": "YjIA6xk4Xxvn",
        "colab_type": "code",
        "colab": {}
      },
      "source": [
        "emoji_dictionary = {\"0\": \"\\u2764\\uFE0F\",    # :heart: prints a black instead of red heart depending on the font\n",
        "                    \"1\": \":baseball:\",\n",
        "                    \"2\": \":smile:\",\n",
        "                    \"3\": \":disappointed:\",\n",
        "                    \"4\": \":fork_and_knife:\"}\n",
        "\n",
        "def label_to_emoji(label):\n",
        "    \"\"\"\n",
        "    Converts a label (int or string) into the corresponding emoji code (string) ready to be printed\n",
        "    \"\"\"\n",
        "    return emoji.emojize(emoji_dictionary[str(label)], use_aliases=True)"
      ],
      "execution_count": 20,
      "outputs": []
    },
    {
      "cell_type": "code",
      "metadata": {
        "id": "OqUjxPs6VeYb",
        "colab_type": "code",
        "colab": {}
      },
      "source": [
        "X_my_sentences = [\"i adore you\", \"i love you\", \"funny lol\", \"lets play with a ball\", \"food is ready\", \"not feeling happy\"]\n",
        "Y_my_labels = np.array([[0], [0], [2], [1], [4],[3]])\n",
        "\n",
        "pred = np.argmax(model.predict(np.array([sentence_to_avg(i, word_to_vec_map) for i in X_my_sentences])), axis=-1)\n",
        "#print_predictions(X_my_sentences, pred)"
      ],
      "execution_count": 21,
      "outputs": []
    },
    {
      "cell_type": "code",
      "metadata": {
        "id": "T0EkAX94XOzf",
        "colab_type": "code",
        "colab": {
          "base_uri": "https://localhost:8080/",
          "height": 121
        },
        "outputId": "a9bee623-8522-4097-8cfa-e2f438442e75"
      },
      "source": [
        "temp = [label_to_emoji(i) for i in pred]\n",
        "for i,j in enumerate(temp):\n",
        "  print(X_my_sentences[i],j)"
      ],
      "execution_count": 22,
      "outputs": [
        {
          "output_type": "stream",
          "text": [
            "i adore you ❤️\n",
            "i love you ❤️\n",
            "funny lol 😄\n",
            "lets play with a ball ⚾\n",
            "food is ready 🍴\n",
            "not feeling happy 😄\n"
          ],
          "name": "stdout"
        }
      ]
    },
    {
      "cell_type": "markdown",
      "metadata": {
        "id": "ITtX_u9aVeYe",
        "colab_type": "text"
      },
      "source": [
        "\n",
        "#### Confusion matrix\n",
        "* Printing the confusion matrix can also help understand which classes are more difficult for your model. \n",
        "* A confusion matrix shows how often an example whose label is one class (\"actual\" class) is mislabeled by the algorithm with a different class (\"predicted\" class)."
      ]
    },
    {
      "cell_type": "code",
      "metadata": {
        "id": "WmVtfqhXVeYe",
        "colab_type": "code",
        "colab": {
          "base_uri": "https://localhost:8080/",
          "height": 104
        },
        "outputId": "09d5088e-4e95-49d8-eb34-85cfa044fd40"
      },
      "source": [
        "from sklearn.metrics import confusion_matrix\n",
        "confusion_matrix(np.argmax(Y_oh_test,axis=-1), np.argmax(model.predict(x_test), axis=-1))"
      ],
      "execution_count": 23,
      "outputs": [
        {
          "output_type": "execute_result",
          "data": {
            "text/plain": [
              "array([[ 5,  1,  0,  1,  0],\n",
              "       [ 0,  8,  0,  0,  0],\n",
              "       [ 4,  0, 14,  0,  0],\n",
              "       [ 0,  0,  1, 15,  0],\n",
              "       [ 0,  0,  0,  0,  7]])"
            ]
          },
          "metadata": {
            "tags": []
          },
          "execution_count": 23
        }
      ]
    },
    {
      "cell_type": "markdown",
      "metadata": {
        "id": "hpyjsTgxVeYh",
        "colab_type": "text"
      },
      "source": [
        "## 2 - Emojifier-V2: Using LSTMs in Keras: \n",
        "\n",
        "* This model will be able to account for the word ordering. \n",
        "* Emojifier-V2 will continue to use pre-trained word embeddings to represent words.\n",
        "* We will feed word embeddings into an LSTM.\n",
        "* The LSTM will learn to predict the most appropriate emoji. \n"
      ]
    },
    {
      "cell_type": "code",
      "metadata": {
        "id": "7HGS7wUhVeYh",
        "colab_type": "code",
        "colab": {
          "base_uri": "https://localhost:8080/",
          "height": 35
        },
        "outputId": "c8de8d59-3979-42b7-a8f1-978fec13ea8b"
      },
      "source": [
        "import numpy as np\n",
        "from keras.initializers import glorot_uniform\n",
        "from tensorflow.keras.preprocessing.text import Tokenizer\n",
        "from tensorflow.keras.preprocessing.sequence import pad_sequences"
      ],
      "execution_count": 24,
      "outputs": [
        {
          "output_type": "stream",
          "text": [
            "Using TensorFlow backend.\n"
          ],
          "name": "stderr"
        }
      ]
    },
    {
      "cell_type": "markdown",
      "metadata": {
        "id": "871brgRQVeYk",
        "colab_type": "text"
      },
      "source": [
        "### 2.1 - Overview of the model\n",
        "\n",
        "Here is the Emojifier-v2 you will implement:\n",
        "\n",
        "<img src=\"https://github.com/varangrai/Coursera-Coursework/blob/master/Emojify/images/emojifier-v2.png?raw=true\" style=\"width:700px;height:400px;\"> <br>\n",
        "<caption><center> **Figure 3**: Emojifier-V2. A 2-layer LSTM sequence classifier. </center></caption>\n",
        "\n"
      ]
    },
    {
      "cell_type": "code",
      "metadata": {
        "id": "UeueWlXxVeYs",
        "colab_type": "code",
        "colab": {}
      },
      "source": [
        "def sentences_to_indices(X, word_to_index, max_len):\n",
        "    \"\"\"\n",
        "    Converts an array of sentences (strings) into an array of indices corresponding to words in the sentences.\n",
        "    The output shape should be such that it can be given to `Embedding()` (described in Figure 4). \n",
        "    Arguments:\n",
        "    X -- array of sentences (strings), of shape (m, 1)\n",
        "    word_to_index -- a dictionary containing the each word mapped to its index\n",
        "    max_len -- maximum number of words in a sentence. You can assume every sentence in X is no longer than this. \n",
        "    Returns:\n",
        "    X_indices -- array of indices corresponding to words in the sentences from X, of shape (m, max_len)\n",
        "    \"\"\"\n",
        "    X_indices=[]\n",
        "    for sent in X:\n",
        "      temp=[]\n",
        "      for word in sent.split():\n",
        "        temp.append(word_to_index[word.lower()])\n",
        "      X_indices.append(temp)\n",
        "    X_indices = np.array(X_indices)\n",
        "    pad_seq = pad_sequences(X_indices, max_len, padding='post', truncating='post')\n",
        "    return pad_seq"
      ],
      "execution_count": 25,
      "outputs": []
    },
    {
      "cell_type": "code",
      "metadata": {
        "id": "r-gmcNxuVeYu",
        "colab_type": "code",
        "colab": {
          "base_uri": "https://localhost:8080/",
          "height": 104
        },
        "outputId": "e7ade716-b812-4570-ffc6-ea1cb4441601"
      },
      "source": [
        "X1 = np.array([\"funny lol\", \"lets play baseball\", \"food is ready for you\"])\n",
        "\n",
        "X1_indices = sentences_to_indices(X1,word_to_index, max_len = 5)\n",
        "print(\"X1 =\", X1)\n",
        "print(\"X1_indices =\\n\", X1_indices)"
      ],
      "execution_count": 26,
      "outputs": [
        {
          "output_type": "stream",
          "text": [
            "X1 = ['funny lol' 'lets play baseball' 'food is ready for you']\n",
            "X1_indices =\n",
            " [[155345 225122      0      0      0]\n",
            " [220930 286375  69714      0      0]\n",
            " [151204 192973 302254 151349 394475]]\n"
          ],
          "name": "stdout"
        }
      ]
    },
    {
      "cell_type": "markdown",
      "metadata": {
        "id": "3pGH8LXNVeYx",
        "colab_type": "text"
      },
      "source": [
        "### Build embedding layer\n",
        "\n",
        "* The embedding layer takes as input a list of word indices.\n",
        "    * `sentences_to_indices()` creates these word indices.\n",
        "* The embedding layer will return the word embeddings for a sentence. \n"
      ]
    },
    {
      "cell_type": "code",
      "metadata": {
        "id": "oW9pg_cKVeYx",
        "colab_type": "code",
        "colab": {}
      },
      "source": [
        "def pretrained_embedding_layer(word_to_vec_map, word_to_index):\n",
        "    \"\"\"\n",
        "    Creates a Keras Embedding() layer and loads in pre-trained GloVe 50-dimensional vectors.\n",
        "    \n",
        "    Arguments:\n",
        "    word_to_vec_map -- dictionary mapping words to their GloVe vector representation.\n",
        "    word_to_index -- dictionary mapping from words to their indices in the vocabulary (400,001 words)\n",
        "    Returns:\n",
        "    embedding_layer -- pretrained layer Keras instance\n",
        "    \"\"\"\n",
        "    \n",
        "    vocab_len = len(word_to_index) + 1                  # adding 1 to fit Keras embedding (requirement)\n",
        "    emb_dim = word_to_vec_map[\"cucumber\"].shape[0]      # define dimensionality of your GloVe word vectors (= 50)\n",
        "\n",
        "    # Initialize the embedding matrix as a numpy array of zeros of shape (vocab_len, dimensions of word vectors = emb_dim)\n",
        "    emb_matrix = np.zeros((vocab_len, emb_dim))\n",
        "    \n",
        "    # Set each row \"index\" of the embedding matrix to be the word vector representation of the \"index\"th word of the vocabulary\n",
        "    for word, index in word_to_index.items():\n",
        "        emb_matrix[index, :] = word_to_vec_map[word]\n",
        "\n",
        "    embedding_layer = tf.keras.layers.Embedding(vocab_len, emb_dim, weights=[emb_matrix], trainable=False)\n",
        "    \n",
        "    return embedding_layer"
      ],
      "execution_count": 27,
      "outputs": []
    },
    {
      "cell_type": "markdown",
      "metadata": {
        "id": "kJVy9XogVeY3",
        "colab_type": "text"
      },
      "source": [
        "## 2.3 Building the Emojifier-V2\n"
      ]
    },
    {
      "cell_type": "code",
      "metadata": {
        "id": "Ls8JDNAEVeY3",
        "colab_type": "code",
        "colab": {}
      },
      "source": [
        "\n",
        "def Emojify_V2(input_shape, word_to_vec_map, word_to_index):\n",
        "    \"\"\"\n",
        "    Function creating the Emojify-v2 model's graph.\n",
        "    \n",
        "    Arguments:\n",
        "    input_shape -- shape of the input, usually (max_len,)\n",
        "    word_to_vec_map -- dictionary mapping every word in a vocabulary into its 50-dimensional vector representation\n",
        "    word_to_index -- dictionary mapping from words to their indices in the vocabulary (400,001 words)\n",
        "\n",
        "    Returns:\n",
        "    model -- a model instance in Keras\n",
        "    \"\"\"\n",
        "    \n",
        "    ### START CODE HERE ###\n",
        "    # Define sentence_indices as the input of the graph, it should be of shape input_shape and dtype 'int32' (as it contains indices).\n",
        "    sentence_indices = tf.keras.layers.Input(input_shape, dtype='int32')\n",
        "    \n",
        "    # Create the embedding layer pretrained with GloVe Vectors (≈1 line)\n",
        "    embedding_layer = pretrained_embedding_layer(word_to_vec_map, word_to_index)\n",
        "    \n",
        "    # Propagate sentence_indices through your embedding layer, you get back the embeddings\n",
        "    embeddings = embedding_layer(sentence_indices) \n",
        "    \n",
        "    # Propagate the embeddings through an LSTM layer with 128-dimensional hidden state\n",
        "    # Be careful, the returned output should be a batch of sequences.\n",
        "    X = tf.keras.layers.LSTM(128, return_sequences=True)(embeddings)\n",
        "    # Add dropout with a probability of 0.5\n",
        "    X = tf.keras.layers.Dropout(0.5)(X)\n",
        "    # Propagate X trough another LSTM layer with 128-dimensional hidden state\n",
        "    # Be careful, the returned output should be a single hidden state, not a batch of sequences.\n",
        "    X = tf.keras.layers.LSTM(128, return_sequences=False)(X)\n",
        "    # Add dropout with a probability of 0.5\n",
        "    X = tf.keras.layers.Dropout(0.5)(X)\n",
        "    # Propagate X through a Dense layer with softmax activation to get back a batch of 5-dimensional vectors.\n",
        "    X = tf.keras.layers.Dense(5)(X)\n",
        "    # Add a softmax activation\n",
        "    X = tf.keras.layers.Activation('softmax')(X)\n",
        "    \n",
        "    # Create Model instance which converts sentence_indices into X.\n",
        "    model = tf.keras.models.Model(inputs=sentence_indices, outputs=X)\n",
        "    \n",
        "    return model"
      ],
      "execution_count": 28,
      "outputs": []
    },
    {
      "cell_type": "code",
      "metadata": {
        "scrolled": false,
        "id": "u_JIGOXmVeY6",
        "colab_type": "code",
        "colab": {
          "base_uri": "https://localhost:8080/",
          "height": 433
        },
        "outputId": "7d10fb35-325c-4db1-9247-20216ba9542b"
      },
      "source": [
        "model = Emojify_V2((maxLen,), word_to_vec_map, word_to_index)\n",
        "model.summary()"
      ],
      "execution_count": 29,
      "outputs": [
        {
          "output_type": "stream",
          "text": [
            "Model: \"model\"\n",
            "_________________________________________________________________\n",
            "Layer (type)                 Output Shape              Param #   \n",
            "=================================================================\n",
            "input_1 (InputLayer)         [(None, 10)]              0         \n",
            "_________________________________________________________________\n",
            "embedding (Embedding)        (None, 10, 50)            20000050  \n",
            "_________________________________________________________________\n",
            "lstm (LSTM)                  (None, 10, 128)           91648     \n",
            "_________________________________________________________________\n",
            "dropout (Dropout)            (None, 10, 128)           0         \n",
            "_________________________________________________________________\n",
            "lstm_1 (LSTM)                (None, 128)               131584    \n",
            "_________________________________________________________________\n",
            "dropout_1 (Dropout)          (None, 128)               0         \n",
            "_________________________________________________________________\n",
            "dense_2 (Dense)              (None, 5)                 645       \n",
            "_________________________________________________________________\n",
            "activation (Activation)      (None, 5)                 0         \n",
            "=================================================================\n",
            "Total params: 20,223,927\n",
            "Trainable params: 223,877\n",
            "Non-trainable params: 20,000,050\n",
            "_________________________________________________________________\n"
          ],
          "name": "stdout"
        }
      ]
    },
    {
      "cell_type": "code",
      "metadata": {
        "id": "v2LrRbVLVeY9",
        "colab_type": "code",
        "colab": {}
      },
      "source": [
        "model.compile(loss='categorical_crossentropy', optimizer='adam', metrics=['accuracy'])"
      ],
      "execution_count": 30,
      "outputs": []
    },
    {
      "cell_type": "code",
      "metadata": {
        "id": "6n2QV9PfVeZA",
        "colab_type": "code",
        "colab": {}
      },
      "source": [
        "X_train_indices = sentences_to_indices(X_train, word_to_index, maxLen)\n",
        "Y_train_oh = convert_to_one_hot(Y_train, C = 5)"
      ],
      "execution_count": 31,
      "outputs": []
    },
    {
      "cell_type": "markdown",
      "metadata": {
        "id": "rO55Ppe7VeZD",
        "colab_type": "text"
      },
      "source": [
        "Fit the Keras model on `X_train_indices` and `Y_train_oh`. We will use `epochs = 50` and `batch_size = 32`."
      ]
    },
    {
      "cell_type": "code",
      "metadata": {
        "scrolled": true,
        "id": "X_65owMVVeZE",
        "colab_type": "code",
        "colab": {
          "base_uri": "https://localhost:8080/",
          "height": 1000
        },
        "outputId": "2ec01a9e-690c-4d3b-e2aa-9e8440d3bd2e"
      },
      "source": [
        "model.fit(X_train_indices, Y_train_oh, epochs = 50, batch_size = 32,shuffle=True)"
      ],
      "execution_count": 33,
      "outputs": [
        {
          "output_type": "stream",
          "text": [
            "Epoch 1/50\n",
            "5/5 [==============================] - 0s 8ms/step - loss: 1.4863 - accuracy: 0.3030\n",
            "Epoch 2/50\n",
            "5/5 [==============================] - 0s 8ms/step - loss: 1.4275 - accuracy: 0.3636\n",
            "Epoch 3/50\n",
            "5/5 [==============================] - 0s 8ms/step - loss: 1.3161 - accuracy: 0.5076\n",
            "Epoch 4/50\n",
            "5/5 [==============================] - 0s 9ms/step - loss: 1.2125 - accuracy: 0.5303\n",
            "Epoch 5/50\n",
            "5/5 [==============================] - 0s 9ms/step - loss: 1.0795 - accuracy: 0.6288\n",
            "Epoch 6/50\n",
            "5/5 [==============================] - 0s 8ms/step - loss: 0.9205 - accuracy: 0.7197\n",
            "Epoch 7/50\n",
            "5/5 [==============================] - 0s 8ms/step - loss: 0.8590 - accuracy: 0.6894\n",
            "Epoch 8/50\n",
            "5/5 [==============================] - 0s 8ms/step - loss: 0.7271 - accuracy: 0.7727\n",
            "Epoch 9/50\n",
            "5/5 [==============================] - 0s 9ms/step - loss: 0.7133 - accuracy: 0.7348\n",
            "Epoch 10/50\n",
            "5/5 [==============================] - 0s 9ms/step - loss: 0.5755 - accuracy: 0.8182\n",
            "Epoch 11/50\n",
            "5/5 [==============================] - 0s 9ms/step - loss: 0.5482 - accuracy: 0.8030\n",
            "Epoch 12/50\n",
            "5/5 [==============================] - 0s 8ms/step - loss: 0.5188 - accuracy: 0.8030\n",
            "Epoch 13/50\n",
            "5/5 [==============================] - 0s 8ms/step - loss: 0.4586 - accuracy: 0.8409\n",
            "Epoch 14/50\n",
            "5/5 [==============================] - 0s 8ms/step - loss: 0.3963 - accuracy: 0.8485\n",
            "Epoch 15/50\n",
            "5/5 [==============================] - 0s 8ms/step - loss: 0.4494 - accuracy: 0.8333\n",
            "Epoch 16/50\n",
            "5/5 [==============================] - 0s 8ms/step - loss: 0.4009 - accuracy: 0.8485\n",
            "Epoch 17/50\n",
            "5/5 [==============================] - 0s 9ms/step - loss: 0.3041 - accuracy: 0.9091\n",
            "Epoch 18/50\n",
            "5/5 [==============================] - 0s 8ms/step - loss: 0.4641 - accuracy: 0.8258\n",
            "Epoch 19/50\n",
            "5/5 [==============================] - 0s 8ms/step - loss: 0.3725 - accuracy: 0.8561\n",
            "Epoch 20/50\n",
            "5/5 [==============================] - 0s 10ms/step - loss: 0.3268 - accuracy: 0.8712\n",
            "Epoch 21/50\n",
            "5/5 [==============================] - 0s 8ms/step - loss: 0.3621 - accuracy: 0.8561\n",
            "Epoch 22/50\n",
            "5/5 [==============================] - 0s 8ms/step - loss: 0.2702 - accuracy: 0.9242\n",
            "Epoch 23/50\n",
            "5/5 [==============================] - 0s 9ms/step - loss: 0.2993 - accuracy: 0.8788\n",
            "Epoch 24/50\n",
            "5/5 [==============================] - 0s 8ms/step - loss: 0.3240 - accuracy: 0.8636\n",
            "Epoch 25/50\n",
            "5/5 [==============================] - 0s 8ms/step - loss: 0.3058 - accuracy: 0.8864\n",
            "Epoch 26/50\n",
            "5/5 [==============================] - 0s 8ms/step - loss: 0.2348 - accuracy: 0.9394\n",
            "Epoch 27/50\n",
            "5/5 [==============================] - 0s 10ms/step - loss: 0.1873 - accuracy: 0.9621\n",
            "Epoch 28/50\n",
            "5/5 [==============================] - 0s 8ms/step - loss: 0.1506 - accuracy: 0.9470\n",
            "Epoch 29/50\n",
            "5/5 [==============================] - 0s 9ms/step - loss: 0.1591 - accuracy: 0.9545\n",
            "Epoch 30/50\n",
            "5/5 [==============================] - 0s 9ms/step - loss: 0.0910 - accuracy: 0.9848\n",
            "Epoch 31/50\n",
            "5/5 [==============================] - 0s 8ms/step - loss: 0.0837 - accuracy: 0.9697\n",
            "Epoch 32/50\n",
            "5/5 [==============================] - 0s 8ms/step - loss: 0.0934 - accuracy: 0.9773\n",
            "Epoch 33/50\n",
            "5/5 [==============================] - 0s 8ms/step - loss: 0.0579 - accuracy: 0.9848\n",
            "Epoch 34/50\n",
            "5/5 [==============================] - 0s 8ms/step - loss: 0.0392 - accuracy: 0.9924\n",
            "Epoch 35/50\n",
            "5/5 [==============================] - 0s 8ms/step - loss: 0.1499 - accuracy: 0.9621\n",
            "Epoch 36/50\n",
            "5/5 [==============================] - 0s 9ms/step - loss: 0.2120 - accuracy: 0.9394\n",
            "Epoch 37/50\n",
            "5/5 [==============================] - 0s 9ms/step - loss: 0.1423 - accuracy: 0.9697\n",
            "Epoch 38/50\n",
            "5/5 [==============================] - 0s 8ms/step - loss: 0.0667 - accuracy: 0.9773\n",
            "Epoch 39/50\n",
            "5/5 [==============================] - 0s 8ms/step - loss: 0.0688 - accuracy: 0.9773\n",
            "Epoch 40/50\n",
            "5/5 [==============================] - 0s 8ms/step - loss: 0.0517 - accuracy: 0.9924\n",
            "Epoch 41/50\n",
            "5/5 [==============================] - 0s 8ms/step - loss: 0.0486 - accuracy: 0.9848\n",
            "Epoch 42/50\n",
            "5/5 [==============================] - 0s 9ms/step - loss: 0.0475 - accuracy: 0.9848\n",
            "Epoch 43/50\n",
            "5/5 [==============================] - 0s 8ms/step - loss: 0.0431 - accuracy: 0.9924\n",
            "Epoch 44/50\n",
            "5/5 [==============================] - 0s 8ms/step - loss: 0.1037 - accuracy: 0.9545\n",
            "Epoch 45/50\n",
            "5/5 [==============================] - 0s 8ms/step - loss: 0.0780 - accuracy: 0.9848\n",
            "Epoch 46/50\n",
            "5/5 [==============================] - 0s 8ms/step - loss: 0.0900 - accuracy: 0.9697\n",
            "Epoch 47/50\n",
            "5/5 [==============================] - 0s 8ms/step - loss: 0.0485 - accuracy: 0.9848\n",
            "Epoch 48/50\n",
            "5/5 [==============================] - 0s 8ms/step - loss: 0.0194 - accuracy: 1.0000\n",
            "Epoch 49/50\n",
            "5/5 [==============================] - 0s 8ms/step - loss: 0.0188 - accuracy: 1.0000\n",
            "Epoch 50/50\n",
            "5/5 [==============================] - 0s 8ms/step - loss: 0.0134 - accuracy: 1.0000\n"
          ],
          "name": "stdout"
        },
        {
          "output_type": "execute_result",
          "data": {
            "text/plain": [
              "<tensorflow.python.keras.callbacks.History at 0x7f01baae47b8>"
            ]
          },
          "metadata": {
            "tags": []
          },
          "execution_count": 33
        }
      ]
    },
    {
      "cell_type": "code",
      "metadata": {
        "scrolled": true,
        "id": "BD0om066VeZH",
        "colab_type": "code",
        "colab": {
          "base_uri": "https://localhost:8080/",
          "height": 69
        },
        "outputId": "ee665b42-698a-45f9-886e-a928f6ceb610"
      },
      "source": [
        "X_test_indices = sentences_to_indices(X_test, word_to_index, max_len = maxLen)\n",
        "Y_test_oh = convert_to_one_hot(Y_test, C = 5)\n",
        "loss, acc = model.evaluate(X_test_indices, Y_test_oh)\n",
        "print()\n",
        "print(\"Test accuracy = \", acc)"
      ],
      "execution_count": 34,
      "outputs": [
        {
          "output_type": "stream",
          "text": [
            "2/2 [==============================] - 0s 4ms/step - loss: 0.5781 - accuracy: 0.8036\n",
            "\n",
            "Test accuracy =  0.8035714030265808\n"
          ],
          "name": "stdout"
        }
      ]
    },
    {
      "cell_type": "code",
      "metadata": {
        "id": "ZwTsh2cdVeZM",
        "colab_type": "code",
        "colab": {
          "base_uri": "https://localhost:8080/",
          "height": 208
        },
        "outputId": "4c06b8c3-5cd3-4e6d-ca53-13ef20d50bc0"
      },
      "source": [
        "# This code allows you to see the mislabelled examples\n",
        "C = 5\n",
        "y_test_oh = np.eye(C)[Y_test.reshape(-1)]\n",
        "X_test_indices = sentences_to_indices(X_test, word_to_index, maxLen)\n",
        "pred = model.predict(X_test_indices)\n",
        "for i in range(len(X_test)):\n",
        "    x = X_test_indices\n",
        "    num = np.argmax(pred[i])\n",
        "    if(num != Y_test[i]):\n",
        "        print('Expected emoji:'+ label_to_emoji(Y_test[i]) + ' prediction: '+ X_test[i] + label_to_emoji(num).strip())"
      ],
      "execution_count": 35,
      "outputs": [
        {
          "output_type": "stream",
          "text": [
            "Expected emoji:😞 prediction: work is hard\t😄\n",
            "Expected emoji:😞 prediction: This girl is messing with me\t❤️\n",
            "Expected emoji:😞 prediction: work is horrible\t😄\n",
            "Expected emoji:🍴 prediction: any suggestions for dinner\t😄\n",
            "Expected emoji:❤️ prediction: I love taking breaks\t😞\n",
            "Expected emoji:😄 prediction: you brighten my day\t❤️\n",
            "Expected emoji:😞 prediction: she is a bully\t😄\n",
            "Expected emoji:😄 prediction: will you be my valentine\t❤️\n",
            "Expected emoji:❤️ prediction: I love you to the stars and back\t😄\n",
            "Expected emoji:😞 prediction: go away\t⚾\n",
            "Expected emoji:🍴 prediction: I did not have breakfast ❤️\n"
          ],
          "name": "stdout"
        }
      ]
    },
    {
      "cell_type": "markdown",
      "metadata": {
        "id": "9mpoUYNHVeZO",
        "colab_type": "text"
      },
      "source": [
        "custom example"
      ]
    },
    {
      "cell_type": "code",
      "metadata": {
        "id": "HI0RhMdoVeZO",
        "colab_type": "code",
        "colab": {}
      },
      "source": [
        "x_test = np.array(['not feeling happy'])\n",
        "X_test_indices = sentences_to_indices(x_test, word_to_index, maxLen)\n",
        "print(x_test[0] +' '+  label_to_emoji(np.argmax(model.predict(X_test_indices))))"
      ],
      "execution_count": null,
      "outputs": []
    },
    {
      "cell_type": "markdown",
      "metadata": {
        "id": "O6Ph5Ue_VeZQ",
        "colab_type": "text"
      },
      "source": [
        "## LSTM version accounts for word order\n",
        "* Previously, Emojify-V1 model did not correctly label \"not feeling happy,\" but our implementation of Emojiy-V2 got it right. \n",
        "\n",
        "* The current model still isn't very robust at understanding negation (such as \"not happy\")\n",
        "    * This is because the training set is small and doesn't have a lot of examples of negation. \n",
        "    * But if the training set were larger, the LSTM model would be much better than the Emojify-V1 model at understanding such complex sentences. \n"
      ]
    },
    {
      "cell_type": "code",
      "metadata": {
        "id": "9va5cN9pVeZU",
        "colab_type": "code",
        "colab": {}
      },
      "source": [
        ""
      ],
      "execution_count": null,
      "outputs": []
    }
  ]
}